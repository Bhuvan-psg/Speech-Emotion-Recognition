{
 "cells": [
  {
   "cell_type": "markdown",
   "metadata": {
    "id": "sbRkAw1RVNbn"
   },
   "source": [
    "# Load file names"
   ]
  },
  {
   "cell_type": "code",
   "execution_count": 1,
   "metadata": {
    "_cell_guid": "b1076dfc-b9ad-4769-8c92-a6c4dae69d19",
    "_uuid": "8f2839f25d086af736a60e9eeb907d3b93b6e0e5",
    "id": "20SnQEifVNbq"
   },
   "outputs": [],
   "source": [
    "# This Python 3 environment comes with many helpful analytics libraries installed\n",
    "# It is defined by the kaggle/python Docker image: https://github.com/kaggle/docker-python\n",
    "# For example, here's several helpful packages to load\n",
    "\n",
    "import numpy as np\n",
    "import pandas as pd\n",
    "import os\n",
    "import librosa\n",
    "import librosa.display\n",
    "import IPython\n",
    "from IPython.display import Audio\n",
    "from IPython.display import Image\n",
    "import matplotlib.pyplot as plt\n",
    "\n",
    "EMOTIONS = {1:'neutral', 2:'calm', 3:'happy', 4:'sad', 5:'angry', 6:'fear', 7:'disgust', 0:'surprise'} # surprise je promenjen sa 8 na 0\n",
    "DATA_PATH = 'E:/Bhuvan/Dataset'\n",
    "SAMPLE_RATE = 48000\n",
    "\n",
    "data = pd.DataFrame(columns=['Emotion', 'Emotion intensity', 'Gender','Path'])\n",
    "for dirname, _, filenames in os.walk(DATA_PATH):\n",
    "    for filename in filenames:\n",
    "        file_path = os.path.join(dirname, filename)\n",
    "        identifiers = filename.split('.')[0].split('-')\n",
    "        emotion = (int(identifiers[2]))\n",
    "        if emotion == 8: # promeni surprise sa 8 na 0\n",
    "            emotion = 0\n",
    "        if int(identifiers[3]) == 1:\n",
    "            emotion_intensity = 'normal' \n",
    "        else:\n",
    "            emotion_intensity = 'strong'\n",
    "        if int(identifiers[6])%2 == 0:\n",
    "            gender = 'female'\n",
    "        else:\n",
    "            gender = 'male'\n",
    "        \n",
    "        data = data.append({\"Emotion\": emotion,\n",
    "                            \"Emotion intensity\": emotion_intensity,\n",
    "                            \"Gender\": gender,\n",
    "                            \"Path\": file_path\n",
    "                             },\n",
    "                             ignore_index = True\n",
    "                          )\n",
    "# You can write up to 5GB to the current directory (/kaggle/working/) that gets preserved as output when you create a version using \"Save & Run All\" \n",
    "# You can also write temporary files to /kaggle/temp/, but they won't be saved outside of the current session"
   ]
  },
  {
   "cell_type": "code",
   "execution_count": 2,
   "metadata": {
    "_cell_guid": "79c7e3d0-c299-4dcb-8224-4455121ee9b0",
    "_uuid": "d629ff2d2480ee46fbb7e2d37f6b5fab8052498a",
    "id": "Sf5D86-hVNbs"
   },
   "outputs": [
    {
     "name": "stdout",
     "output_type": "stream",
     "text": [
      "number of files is 1440\n"
     ]
    },
    {
     "data": {
      "text/html": [
       "<div>\n",
       "<style scoped>\n",
       "    .dataframe tbody tr th:only-of-type {\n",
       "        vertical-align: middle;\n",
       "    }\n",
       "\n",
       "    .dataframe tbody tr th {\n",
       "        vertical-align: top;\n",
       "    }\n",
       "\n",
       "    .dataframe thead th {\n",
       "        text-align: right;\n",
       "    }\n",
       "</style>\n",
       "<table border=\"1\" class=\"dataframe\">\n",
       "  <thead>\n",
       "    <tr style=\"text-align: right;\">\n",
       "      <th></th>\n",
       "      <th>Emotion</th>\n",
       "      <th>Emotion intensity</th>\n",
       "      <th>Gender</th>\n",
       "      <th>Path</th>\n",
       "    </tr>\n",
       "  </thead>\n",
       "  <tbody>\n",
       "    <tr>\n",
       "      <th>0</th>\n",
       "      <td>1</td>\n",
       "      <td>normal</td>\n",
       "      <td>male</td>\n",
       "      <td>E:/Bhuvan/Dataset\\03-01-01-01-01-01-01.wav</td>\n",
       "    </tr>\n",
       "    <tr>\n",
       "      <th>1</th>\n",
       "      <td>1</td>\n",
       "      <td>normal</td>\n",
       "      <td>female</td>\n",
       "      <td>E:/Bhuvan/Dataset\\03-01-01-01-01-01-02.wav</td>\n",
       "    </tr>\n",
       "    <tr>\n",
       "      <th>2</th>\n",
       "      <td>1</td>\n",
       "      <td>normal</td>\n",
       "      <td>male</td>\n",
       "      <td>E:/Bhuvan/Dataset\\03-01-01-01-01-01-03.wav</td>\n",
       "    </tr>\n",
       "    <tr>\n",
       "      <th>3</th>\n",
       "      <td>1</td>\n",
       "      <td>normal</td>\n",
       "      <td>female</td>\n",
       "      <td>E:/Bhuvan/Dataset\\03-01-01-01-01-01-04.wav</td>\n",
       "    </tr>\n",
       "    <tr>\n",
       "      <th>4</th>\n",
       "      <td>1</td>\n",
       "      <td>normal</td>\n",
       "      <td>male</td>\n",
       "      <td>E:/Bhuvan/Dataset\\03-01-01-01-01-01-05.wav</td>\n",
       "    </tr>\n",
       "  </tbody>\n",
       "</table>\n",
       "</div>"
      ],
      "text/plain": [
       "  Emotion Emotion intensity  Gender  \\\n",
       "0       1            normal    male   \n",
       "1       1            normal  female   \n",
       "2       1            normal    male   \n",
       "3       1            normal  female   \n",
       "4       1            normal    male   \n",
       "\n",
       "                                         Path  \n",
       "0  E:/Bhuvan/Dataset\\03-01-01-01-01-01-01.wav  \n",
       "1  E:/Bhuvan/Dataset\\03-01-01-01-01-01-02.wav  \n",
       "2  E:/Bhuvan/Dataset\\03-01-01-01-01-01-03.wav  \n",
       "3  E:/Bhuvan/Dataset\\03-01-01-01-01-01-04.wav  \n",
       "4  E:/Bhuvan/Dataset\\03-01-01-01-01-01-05.wav  "
      ]
     },
     "execution_count": 2,
     "metadata": {},
     "output_type": "execute_result"
    }
   ],
   "source": [
    "print(\"number of files is {}\".format(len(data)))\n",
    "data.head()"
   ]
  },
  {
   "cell_type": "markdown",
   "metadata": {
    "id": "YwW1ZFlcVNbs"
   },
   "source": [
    "number of examples per Emotion"
   ]
  },
  {
   "cell_type": "code",
   "execution_count": 3,
   "metadata": {
    "id": "3ERBf93UVNbt"
   },
   "outputs": [
    {
     "data": {
      "text/plain": [
       "Text(0, 0.5, 'Number of examples')"
      ]
     },
     "execution_count": 3,
     "metadata": {},
     "output_type": "execute_result"
    }
   ],
   "source": [
    "fig = plt.figure()\n",
    "ax = fig.add_subplot(111)\n",
    "ax.bar(x=range(8), height=data['Emotion'].value_counts())\n",
    "ax.set_xticks(ticks=range(8))\n",
    "ax.set_xticklabels([EMOTIONS[i] for i in range(8)],fontsize=10)\n",
    "ax.set_xlabel('Emotion')\n",
    "ax.set_ylabel('Number of examples')"
   ]
  },
  {
   "cell_type": "markdown",
   "metadata": {
    "id": "-vKaQhFmVNbu"
   },
   "source": [
    "number of examples per gender"
   ]
  },
  {
   "cell_type": "code",
   "execution_count": 4,
   "metadata": {
    "id": "fJFLgtVeVNbu"
   },
   "outputs": [
    {
     "data": {
      "text/plain": [
       "Text(0, 0.5, 'Number of examples')"
      ]
     },
     "execution_count": 4,
     "metadata": {},
     "output_type": "execute_result"
    }
   ],
   "source": [
    "fig = plt.figure()\n",
    "ax = fig.add_subplot(111)\n",
    "counts = data['Gender'].value_counts()\n",
    "ax.bar(x=[0,1], height=counts.values)\n",
    "ax.set_xticks(ticks=[0,1])\n",
    "ax.set_xticklabels(list(counts.index))\n",
    "ax.set_xlabel('Gender')\n",
    "ax.set_ylabel('Number of examples')"
   ]
  },
  {
   "cell_type": "markdown",
   "metadata": {
    "id": "jK-7T0x-VNbv"
   },
   "source": [
    "number of examples per emotion intensity"
   ]
  },
  {
   "cell_type": "code",
   "execution_count": 5,
   "metadata": {
    "id": "T7MdEBwgVNbv"
   },
   "outputs": [
    {
     "data": {
      "text/plain": [
       "Text(0, 0.5, 'Number of examples')"
      ]
     },
     "execution_count": 5,
     "metadata": {},
     "output_type": "execute_result"
    }
   ],
   "source": [
    "fig = plt.figure()\n",
    "ax = fig.add_subplot(111)\n",
    "counts = data['Emotion intensity'].value_counts()\n",
    "ax.bar(x=[0,1], height=counts.values)\n",
    "ax.set_xticks(ticks=[0,1])\n",
    "ax.set_xticklabels(list(counts.index))\n",
    "ax.set_xlabel('Gender')\n",
    "ax.set_ylabel('Number of examples')"
   ]
  },
  {
   "cell_type": "markdown",
   "metadata": {
    "id": "GmTzEdCkVNbw"
   },
   "source": [
    "# Load the signals"
   ]
  },
  {
   "cell_type": "code",
   "execution_count": 6,
   "metadata": {
    "id": "6K6k60yuVNbw"
   },
   "outputs": [
    {
     "name": "stdout",
     "output_type": "stream",
     "text": [
      " Processed 1439/1440 files"
     ]
    }
   ],
   "source": [
    "mel_spectrograms = []\n",
    "signals = []\n",
    "for i, file_path in enumerate(data.Path):\n",
    "    audio, sample_rate = librosa.load(file_path, duration=3, offset=0.5, sr=SAMPLE_RATE)\n",
    "    signal = np.zeros((int(SAMPLE_RATE*3,)))\n",
    "    signal[:len(audio)] = audio\n",
    "    signals.append(signal)\n",
    "    print(\"\\r Processed {}/{} files\".format(i,len(data)),end='')\n",
    "signals = np.stack(signals,axis=0)"
   ]
  },
  {
   "cell_type": "markdown",
   "metadata": {
    "id": "PQqGSjQLVNbx"
   },
   "source": [
    "# Split the data"
   ]
  },
  {
   "cell_type": "code",
   "execution_count": 7,
   "metadata": {
    "id": "D3uzoW2cVNbx"
   },
   "outputs": [
    {
     "name": "stdout",
     "output_type": "stream",
     "text": [
      "X_train:(1147, 144000), Y_train:(1147,)\n",
      "X_val:(143, 144000), Y_val:(143,)\n",
      "X_test:(150, 144000), Y_test:(150,)\n",
      "Number of unique indexes is 1440, out of 1440\n"
     ]
    }
   ],
   "source": [
    "X = signals\n",
    "train_ind,test_ind,val_ind = [],[],[]\n",
    "X_train,X_val,X_test = [],[],[]\n",
    "Y_train,Y_val,Y_test = [],[],[]\n",
    "for emotion in range(len(EMOTIONS)):\n",
    "    emotion_ind = list(data.loc[data.Emotion==emotion,'Emotion'].index)\n",
    "    emotion_ind = np.random.permutation(emotion_ind)\n",
    "    m = len(emotion_ind)\n",
    "    ind_train = emotion_ind[:int(0.8*m)]\n",
    "    ind_val = emotion_ind[int(0.8*m):int(0.9*m)]\n",
    "    ind_test = emotion_ind[int(0.9*m):]\n",
    "    X_train.append(X[ind_train,:])\n",
    "    Y_train.append(np.array([emotion]*len(ind_train),dtype=np.int32))\n",
    "    X_val.append(X[ind_val,:])\n",
    "    Y_val.append(np.array([emotion]*len(ind_val),dtype=np.int32))\n",
    "    X_test.append(X[ind_test,:])\n",
    "    Y_test.append(np.array([emotion]*len(ind_test),dtype=np.int32))\n",
    "    train_ind.append(ind_train)\n",
    "    test_ind.append(ind_test)\n",
    "    val_ind.append(ind_val)\n",
    "X_train = np.concatenate(X_train,0)\n",
    "X_val = np.concatenate(X_val,0)\n",
    "X_test = np.concatenate(X_test,0)\n",
    "Y_train = np.concatenate(Y_train,0)\n",
    "Y_val = np.concatenate(Y_val,0)\n",
    "Y_test = np.concatenate(Y_test,0)\n",
    "train_ind = np.concatenate(train_ind,0)\n",
    "val_ind = np.concatenate(val_ind,0)\n",
    "test_ind = np.concatenate(test_ind,0)\n",
    "print(f'X_train:{X_train.shape}, Y_train:{Y_train.shape}')\n",
    "print(f'X_val:{X_val.shape}, Y_val:{Y_val.shape}')\n",
    "print(f'X_test:{X_test.shape}, Y_test:{Y_test.shape}')\n",
    "# check if all are unique\n",
    "unique, count = np.unique(np.concatenate([train_ind,test_ind,val_ind],0), return_counts=True)\n",
    "print(\"Number of unique indexes is {}, out of {}\".format(sum(count==1), X.shape[0]))\n",
    "\n",
    "del X"
   ]
  },
  {
   "cell_type": "markdown",
   "metadata": {
    "id": "WoAJ6nZzVNbx"
   },
   "source": [
    "# Augment signals by adding AWGN"
   ]
  },
  {
   "cell_type": "code",
   "execution_count": 8,
   "metadata": {
    "id": "pZBJy6P5VNby"
   },
   "outputs": [],
   "source": [
    "def addAWGN(signal, num_bits=16, augmented_num=2, snr_low=15, snr_high=30): \n",
    "    signal_len = len(signal)\n",
    "    # Generate White Gaussian noise\n",
    "    noise = np.random.normal(size=(augmented_num, signal_len))\n",
    "    # Normalize signal and noise\n",
    "    norm_constant = 2.0**(num_bits-1)\n",
    "    signal_norm = signal / norm_constant\n",
    "    noise_norm = noise / norm_constant\n",
    "    # Compute signal and noise power\n",
    "    s_power = np.sum(signal_norm ** 2) / signal_len\n",
    "    n_power = np.sum(noise_norm ** 2, axis=1) / signal_len\n",
    "    # Random SNR: Uniform [15, 30] in dB\n",
    "    target_snr = np.random.randint(snr_low, snr_high)\n",
    "    # Compute K (covariance matrix) for each noise \n",
    "    K = np.sqrt((s_power / n_power) * 10 ** (- target_snr / 10))\n",
    "    K = np.ones((signal_len, augmented_num)) * K  \n",
    "    # Generate noisy signal\n",
    "    return signal + K.T * noise"
   ]
  },
  {
   "cell_type": "code",
   "execution_count": 9,
   "metadata": {
    "id": "CgwTVlxJVNby"
   },
   "outputs": [
    {
     "name": "stdout",
     "output_type": "stream",
     "text": [
      " Processed 1146/1147 files\n",
      "X_train:(3441, 144000), Y_train:(3441,)\n"
     ]
    }
   ],
   "source": [
    "aug_signals = []\n",
    "aug_labels = []\n",
    "for i in range(X_train.shape[0]):\n",
    "    signal = X_train[i,:]\n",
    "    augmented_signals = addAWGN(signal)\n",
    "    for j in range(augmented_signals.shape[0]):\n",
    "        aug_labels.append(data.loc[i,\"Emotion\"])\n",
    "        aug_signals.append(augmented_signals[j,:])\n",
    "        data = data.append(data.iloc[i], ignore_index=True)\n",
    "    print(\"\\r Processed {}/{} files\".format(i,X_train.shape[0]),end='')\n",
    "aug_signals = np.stack(aug_signals,axis=0)\n",
    "X_train = np.concatenate([X_train,aug_signals],axis=0)\n",
    "aug_labels = np.stack(aug_labels,axis=0)\n",
    "Y_train = np.concatenate([Y_train,aug_labels])\n",
    "print('')\n",
    "print(f'X_train:{X_train.shape}, Y_train:{Y_train.shape}')"
   ]
  },
  {
   "cell_type": "markdown",
   "metadata": {
    "id": "tdrZXT5hVNbz"
   },
   "source": [
    "# Calculate mel spectrograms"
   ]
  },
  {
   "cell_type": "code",
   "execution_count": 10,
   "metadata": {
    "id": "eiWEtIfuVNb0"
   },
   "outputs": [
    {
     "name": "stdout",
     "output_type": "stream",
     "text": [
      "MEL spectrogram shape:  (128, 563)\n"
     ]
    }
   ],
   "source": [
    "def getMELspectrogram(audio, sample_rate):\n",
    "    mel_spec = librosa.feature.melspectrogram(y=audio,\n",
    "                                              sr=sample_rate,\n",
    "                                              n_fft=1024,\n",
    "                                              win_length = 512,\n",
    "                                              window='hamming',\n",
    "                                              hop_length = 256,\n",
    "                                              n_mels=128,\n",
    "                                              fmax=sample_rate/2\n",
    "                                             )\n",
    "    mel_spec_db = librosa.power_to_db(mel_spec, ref=np.max)\n",
    "    return mel_spec_db\n",
    "\n",
    "# test function\n",
    "audio, sample_rate = librosa.load(data.loc[0,'Path'], duration=3, offset=0.5,sr=SAMPLE_RATE)\n",
    "signal = np.zeros((int(SAMPLE_RATE*3,)))\n",
    "signal[:len(audio)] = audio\n",
    "mel_spectrogram = getMELspectrogram(signal, SAMPLE_RATE)\n",
    "librosa.display.specshow(mel_spectrogram, y_axis='mel', x_axis='time')\n",
    "print('MEL spectrogram shape: ',mel_spectrogram.shape)"
   ]
  },
  {
   "cell_type": "code",
   "execution_count": 11,
   "metadata": {
    "id": "uekXrF7BVNb0"
   },
   "outputs": [
    {
     "name": "stdout",
     "output_type": "stream",
     "text": [
      "Calculatin mel spectrograms for train set\n",
      " Processed 3440/3441 files\n",
      "Calculatin mel spectrograms for val set\n",
      " Processed 142/143 files\n",
      "Calculatin mel spectrograms for test set\n",
      " Processed 149/150 files\n"
     ]
    }
   ],
   "source": [
    "mel_train = []\n",
    "print(\"Calculatin mel spectrograms for train set\")\n",
    "for i in range(X_train.shape[0]):\n",
    "    mel_spectrogram = getMELspectrogram(X_train[i,:], sample_rate=SAMPLE_RATE)\n",
    "    mel_train.append(mel_spectrogram)\n",
    "    print(\"\\r Processed {}/{} files\".format(i,X_train.shape[0]),end='')\n",
    "print('')\n",
    "del X_train\n",
    "\n",
    "mel_val = []\n",
    "print(\"Calculatin mel spectrograms for val set\")\n",
    "for i in range(X_val.shape[0]):\n",
    "    mel_spectrogram = getMELspectrogram(X_val[i,:], sample_rate=SAMPLE_RATE)\n",
    "    mel_val.append(mel_spectrogram)\n",
    "    print(\"\\r Processed {}/{} files\".format(i,X_val.shape[0]),end='')\n",
    "print('')\n",
    "del X_val\n",
    "\n",
    "mel_test = []\n",
    "print(\"Calculatin mel spectrograms for test set\")\n",
    "for i in range(X_test.shape[0]):\n",
    "    mel_spectrogram = getMELspectrogram(X_test[i,:], sample_rate=SAMPLE_RATE)\n",
    "    mel_test.append(mel_spectrogram)\n",
    "    print(\"\\r Processed {}/{} files\".format(i,X_test.shape[0]),end='')\n",
    "print('')\n",
    "del X_test"
   ]
  },
  {
   "cell_type": "markdown",
   "metadata": {
    "id": "sNXWko_hVNb1"
   },
   "source": [
    "# Split into chunks"
   ]
  },
  {
   "cell_type": "code",
   "execution_count": 12,
   "metadata": {
    "id": "iKl22PFbVNb1"
   },
   "outputs": [],
   "source": [
    "def splitIntoChunks(mel_spec,win_size,stride):\n",
    "    t = mel_spec.shape[1]\n",
    "    num_of_chunks = int(t/stride)\n",
    "    chunks = []\n",
    "    for i in range(num_of_chunks):\n",
    "        chunk = mel_spec[:,i*stride:i*stride+win_size]\n",
    "        if chunk.shape[1] == win_size:\n",
    "            chunks.append(chunk)\n",
    "    return np.stack(chunks,axis=0)"
   ]
  },
  {
   "cell_type": "code",
   "execution_count": 13,
   "metadata": {
    "id": "OADpVxkBVNb1"
   },
   "outputs": [
    {
     "name": "stdout",
     "output_type": "stream",
     "text": [
      "Number of chunks is 7\n",
      "Number of chunks is 7\n",
      "Number of chunks is 7\n"
     ]
    }
   ],
   "source": [
    "# get chunks\n",
    "# train set\n",
    "mel_train_chunked = []\n",
    "for mel_spec in mel_train:\n",
    "    chunks = splitIntoChunks(mel_spec, win_size=128,stride=64)\n",
    "    mel_train_chunked.append(chunks)\n",
    "print(\"Number of chunks is {}\".format(chunks.shape[0]))\n",
    "# val set\n",
    "mel_val_chunked = []\n",
    "for mel_spec in mel_val:\n",
    "    chunks = splitIntoChunks(mel_spec, win_size=128,stride=64)\n",
    "    mel_val_chunked.append(chunks)\n",
    "print(\"Number of chunks is {}\".format(chunks.shape[0]))\n",
    "# test set\n",
    "mel_test_chunked = []\n",
    "for mel_spec in mel_test:\n",
    "    chunks = splitIntoChunks(mel_spec, win_size=128,stride=64)\n",
    "    mel_test_chunked.append(chunks)\n",
    "print(\"Number of chunks is {}\".format(chunks.shape[0]))"
   ]
  },
  {
   "cell_type": "markdown",
   "metadata": {
    "id": "kzQy-0JBVNb2"
   },
   "source": [
    "# Create Model"
   ]
  },
  {
   "cell_type": "code",
   "execution_count": 14,
   "metadata": {
    "id": "Vapt6LfNVNb3"
   },
   "outputs": [],
   "source": [
    "import torch\n",
    "import torch.nn as nn\n",
    "# BATCH FIRST TimeDistributed layer\n",
    "class TimeDistributed(nn.Module):\n",
    "    def __init__(self, module):\n",
    "        super(TimeDistributed, self).__init__()\n",
    "        self.module = module\n",
    "\n",
    "    def forward(self, x):\n",
    "\n",
    "        if len(x.size()) <= 2:\n",
    "            return self.module(x)\n",
    "        # squash samples and timesteps into a single axis\n",
    "        elif len(x.size()) == 3: # (samples, timesteps, inp1)\n",
    "            x_reshape = x.contiguous().view(-1, x.size(2))  # (samples * timesteps, inp1)\n",
    "        elif len(x.size()) == 4: # (samples,timesteps,inp1,inp2)\n",
    "            x_reshape = x.contiguous().view(-1, x.size(2), x.size(3)) # (samples*timesteps,inp1,inp2)\n",
    "        else: # (samples,timesteps,inp1,inp2,inp3)\n",
    "            x_reshape = x.contiguous().view(-1, x.size(2), x.size(3),x.size(4)) # (samples*timesteps,inp1,inp2,inp3)\n",
    "            \n",
    "        y = self.module(x_reshape)\n",
    "        \n",
    "        # we have to reshape Y\n",
    "        if len(x.size()) == 3:\n",
    "            y = y.contiguous().view(x.size(0), -1, y.size(1))  # (samples, timesteps, out1)\n",
    "        elif len(x.size()) == 4:\n",
    "            y = y.contiguous().view(x.size(0), -1, y.size(1), y.size(2)) # (samples, timesteps, out1,out2)\n",
    "        else:\n",
    "            y = y.contiguous().view(x.size(0), -1, y.size(1), y.size(2),y.size(3)) # (samples, timesteps, out1,out2, out3)\n",
    "        return y"
   ]
  },
  {
   "cell_type": "code",
   "execution_count": 15,
   "metadata": {
    "id": "HLG4M32EVNb3"
   },
   "outputs": [],
   "source": [
    "class HybridModel(nn.Module):\n",
    "    def __init__(self,num_emotions):\n",
    "        super().__init__()\n",
    "        # conv block\n",
    "        self.conv2Dblock = nn.Sequential(\n",
    "            # 1. conv block\n",
    "            TimeDistributed(nn.Conv2d(in_channels=1,\n",
    "                                   out_channels=16,\n",
    "                                   kernel_size=3,\n",
    "                                   stride=1,\n",
    "                                   padding=1\n",
    "                                  )),\n",
    "            TimeDistributed(nn.BatchNorm2d(16)),\n",
    "            TimeDistributed(nn.ReLU()),\n",
    "            TimeDistributed(nn.MaxPool2d(kernel_size=2, stride=2)),\n",
    "            TimeDistributed(nn.Dropout(p=0.4)),\n",
    "            # 2. conv block\n",
    "            TimeDistributed(nn.Conv2d(in_channels=16,\n",
    "                                   out_channels=32,\n",
    "                                   kernel_size=3,\n",
    "                                   stride=1,\n",
    "                                   padding=1\n",
    "                                  )),\n",
    "            TimeDistributed(nn.BatchNorm2d(32)),\n",
    "            TimeDistributed(nn.ReLU()),\n",
    "            TimeDistributed(nn.MaxPool2d(kernel_size=4, stride=4)),\n",
    "            TimeDistributed(nn.Dropout(p=0.4)),\n",
    "            # 3. conv block\n",
    "            TimeDistributed(nn.Conv2d(in_channels=32,\n",
    "                                   out_channels=64,\n",
    "                                   kernel_size=3,\n",
    "                                   stride=1,\n",
    "                                   padding=1\n",
    "                                  )),\n",
    "            TimeDistributed(nn.BatchNorm2d(64)),\n",
    "            TimeDistributed(nn.ReLU()),\n",
    "            TimeDistributed(nn.MaxPool2d(kernel_size=4, stride=4)),\n",
    "            TimeDistributed(nn.Dropout(p=0.4)),\n",
    "            # 4. conv block\n",
    "            TimeDistributed(nn.Conv2d(in_channels=64,\n",
    "                                   out_channels=128,\n",
    "                                   kernel_size=3,\n",
    "                                   stride=1,\n",
    "                                   padding=1\n",
    "                                  )),\n",
    "            TimeDistributed(nn.BatchNorm2d(128)),\n",
    "            TimeDistributed(nn.ReLU()),\n",
    "            TimeDistributed(nn.MaxPool2d(kernel_size=4, stride=4)),\n",
    "            TimeDistributed(nn.Dropout(p=0.4))\n",
    "        )\n",
    "        # LSTM block\n",
    "        hidden_size = 64\n",
    "        self.lstm = nn.LSTM(input_size=128,hidden_size=hidden_size,bidirectional=False, batch_first=True) \n",
    "        self.dropout_lstm = nn.Dropout(p=0.3)\n",
    "        # Linear softmax layer\n",
    "        self.out_linear = nn.Linear(hidden_size,num_emotions)\n",
    "    def forward(self,x):\n",
    "        conv_embedding = self.conv2Dblock(x)\n",
    "        conv_embedding = torch.flatten(conv_embedding, start_dim=2) # do not flatten batch dimension and time\n",
    "        lstm_embedding, (h,c) = self.lstm(conv_embedding)\n",
    "        lstm_embedding = self.dropout_lstm(lstm_embedding)\n",
    "        # lstm_embedding (batch, time, hidden_size)\n",
    "        lstm_output = lstm_embedding[:,-1,:] \n",
    "        output_logits = self.out_linear(lstm_output)\n",
    "        output_softmax = nn.functional.softmax(output_logits,dim=1)\n",
    "        return output_logits, output_softmax\n",
    "                                     "
   ]
  },
  {
   "cell_type": "code",
   "execution_count": 16,
   "metadata": {
    "id": "ez_7eMZoVNb4"
   },
   "outputs": [],
   "source": [
    "def loss_fnc(predictions, targets):\n",
    "    return nn.CrossEntropyLoss()(input=predictions,target=targets)"
   ]
  },
  {
   "cell_type": "markdown",
   "metadata": {
    "id": "uo1iRY8yVNb5"
   },
   "source": [
    "# TRAINING"
   ]
  },
  {
   "cell_type": "code",
   "execution_count": 17,
   "metadata": {
    "id": "DsDMnMs3VNb5"
   },
   "outputs": [],
   "source": [
    "def make_train_step(model, loss_fnc, optimizer):\n",
    "    def train_step(X,Y):\n",
    "        # set model to train mode\n",
    "        model.train()\n",
    "        # forward pass\n",
    "        output_logits, output_softmax = model(X)\n",
    "        predictions = torch.argmax(output_softmax,dim=1)\n",
    "        accuracy = torch.sum(Y==predictions)/float(len(Y))\n",
    "        # compute loss\n",
    "        loss = loss_fnc(output_logits, Y)\n",
    "        # compute gradients\n",
    "        loss.backward()\n",
    "        # update parameters and zero gradients\n",
    "        optimizer.step()\n",
    "        optimizer.zero_grad()\n",
    "        return loss.item(), accuracy*100\n",
    "    return train_step"
   ]
  },
  {
   "cell_type": "code",
   "execution_count": 18,
   "metadata": {
    "id": "nqB698d6VNb5"
   },
   "outputs": [],
   "source": [
    "def make_validate_fnc(model,loss_fnc):\n",
    "    def validate(X,Y):\n",
    "        with torch.no_grad():\n",
    "            model.eval()\n",
    "            output_logits, output_softmax = model(X)\n",
    "            predictions = torch.argmax(output_softmax,dim=1)\n",
    "            accuracy = torch.sum(Y==predictions)/float(len(Y))\n",
    "            loss = loss_fnc(output_logits,Y)\n",
    "        return loss.item(), accuracy*100, predictions\n",
    "    return validate"
   ]
  },
  {
   "cell_type": "markdown",
   "metadata": {
    "id": "jxg0uLMGVNb5"
   },
   "source": [
    "stack data"
   ]
  },
  {
   "cell_type": "code",
   "execution_count": 19,
   "metadata": {
    "id": "6BRvQ2ajVNb6"
   },
   "outputs": [
    {
     "name": "stdout",
     "output_type": "stream",
     "text": [
      "Shape of X_train:  (3441, 7, 1, 128, 128)\n",
      "Shape of X_val:  (143, 7, 1, 128, 128)\n",
      "Shape of X_test:  (150, 7, 1, 128, 128)\n"
     ]
    }
   ],
   "source": [
    "X_train = np.stack(mel_train_chunked,axis=0)\n",
    "X_train = np.expand_dims(X_train,2)\n",
    "print('Shape of X_train: ',X_train.shape)\n",
    "X_val = np.stack(mel_val_chunked,axis=0)\n",
    "X_val = np.expand_dims(X_val,2)\n",
    "print('Shape of X_val: ',X_val.shape)\n",
    "X_test = np.stack(mel_test_chunked,axis=0)\n",
    "X_test = np.expand_dims(X_test,2)\n",
    "print('Shape of X_test: ',X_test.shape)\n",
    "\n",
    "del mel_train_chunked\n",
    "del mel_train\n",
    "del mel_val_chunked\n",
    "del mel_val\n",
    "del mel_test_chunked\n",
    "del mel_test"
   ]
  },
  {
   "cell_type": "markdown",
   "metadata": {
    "id": "vWiObjDXVNb6"
   },
   "source": [
    "scale data"
   ]
  },
  {
   "cell_type": "code",
   "execution_count": 20,
   "metadata": {
    "id": "Ll_nAbOxVNb6"
   },
   "outputs": [],
   "source": [
    "from sklearn.preprocessing import StandardScaler\n",
    "scaler = StandardScaler()\n",
    "\n",
    "b,t,c,h,w = X_train.shape\n",
    "X_train = np.reshape(X_train, newshape=(b,-1))\n",
    "X_train = scaler.fit_transform(X_train)\n",
    "X_train = np.reshape(X_train, newshape=(b,t,c,h,w))\n",
    "\n",
    "b,t,c,h,w = X_test.shape\n",
    "X_test = np.reshape(X_test, newshape=(b,-1))\n",
    "X_test = scaler.transform(X_test)\n",
    "X_test = np.reshape(X_test, newshape=(b,t,c,h,w))\n",
    "\n",
    "b,t,c,h,w = X_val.shape\n",
    "X_val = np.reshape(X_val, newshape=(b,-1))\n",
    "X_val = scaler.transform(X_val)\n",
    "X_val = np.reshape(X_val, newshape=(b,t,c,h,w))"
   ]
  },
  {
   "cell_type": "markdown",
   "metadata": {
    "id": "N1WtusHjVNb7"
   },
   "source": [
    "train the model"
   ]
  },
  {
   "cell_type": "code",
   "execution_count": 21,
   "metadata": {
    "id": "TfB3Eo5QVNb7"
   },
   "outputs": [
    {
     "name": "stdout",
     "output_type": "stream",
     "text": [
      "Selected device is cuda\n",
      "Number of trainable params:  147816\n",
      " Epoch 0: iteration 106/107\n",
      "Epoch 0 --> loss:2.0209, acc:15.32%, val_loss:2.1462, val_acc:13.29%\n",
      " Epoch 1: iteration 106/107\n",
      "Epoch 1 --> loss:1.9737, acc:16.01%, val_loss:2.2635, val_acc:13.29%\n",
      " Epoch 2: iteration 106/107\n",
      "Epoch 2 --> loss:1.9459, acc:18.28%, val_loss:2.3432, val_acc:13.29%\n",
      " Epoch 3: iteration 106/107\n",
      "Epoch 3 --> loss:1.9188, acc:19.59%, val_loss:2.3754, val_acc:13.29%\n",
      " Epoch 4: iteration 106/107\n",
      "Epoch 4 --> loss:1.9073, acc:20.66%, val_loss:2.3822, val_acc:18.88%\n",
      " Epoch 5: iteration 106/107\n",
      "Epoch 5 --> loss:1.8933, acc:22.03%, val_loss:2.3957, val_acc:13.29%\n",
      " Epoch 6: iteration 106/107\n",
      "Epoch 6 --> loss:1.8821, acc:22.06%, val_loss:2.4379, val_acc:13.29%\n",
      " Epoch 7: iteration 106/107\n",
      "Epoch 7 --> loss:1.8794, acc:22.55%, val_loss:2.4144, val_acc:13.29%\n",
      " Epoch 8: iteration 106/107\n",
      "Epoch 8 --> loss:1.8658, acc:22.32%, val_loss:2.4334, val_acc:13.29%\n",
      " Epoch 9: iteration 106/107\n",
      "Epoch 9 --> loss:1.8616, acc:22.87%, val_loss:2.4073, val_acc:13.29%\n",
      " Epoch 10: iteration 106/107\n",
      "Epoch 10 --> loss:1.8565, acc:22.84%, val_loss:2.3959, val_acc:12.59%\n",
      " Epoch 11: iteration 106/107\n",
      "Epoch 11 --> loss:1.8436, acc:24.21%, val_loss:2.4684, val_acc:13.29%\n",
      " Epoch 12: iteration 106/107\n",
      "Epoch 12 --> loss:1.8319, acc:25.78%, val_loss:2.4580, val_acc:13.99%\n",
      " Epoch 13: iteration 106/107\n",
      "Epoch 13 --> loss:1.8260, acc:25.25%, val_loss:2.4147, val_acc:13.99%\n",
      " Epoch 14: iteration 106/107\n",
      "Epoch 14 --> loss:1.8028, acc:26.50%, val_loss:2.4783, val_acc:13.99%\n",
      " Epoch 15: iteration 106/107\n",
      "Epoch 15 --> loss:1.7968, acc:26.71%, val_loss:2.4836, val_acc:14.69%\n",
      " Epoch 16: iteration 106/107\n",
      "Epoch 16 --> loss:1.7894, acc:26.65%, val_loss:2.4345, val_acc:14.69%\n",
      " Epoch 17: iteration 106/107\n",
      "Epoch 17 --> loss:1.7831, acc:27.00%, val_loss:2.4029, val_acc:16.08%\n",
      " Epoch 18: iteration 106/107\n",
      "Epoch 18 --> loss:1.7697, acc:28.48%, val_loss:2.4310, val_acc:15.38%\n",
      " Epoch 19: iteration 106/107\n",
      "Epoch 19 --> loss:1.7673, acc:27.52%, val_loss:2.3913, val_acc:16.78%\n",
      " Epoch 20: iteration 106/107\n",
      "Epoch 20 --> loss:1.7601, acc:28.25%, val_loss:2.4014, val_acc:16.78%\n",
      " Epoch 21: iteration 106/107\n",
      "Epoch 21 --> loss:1.7520, acc:29.29%, val_loss:2.4317, val_acc:15.38%\n",
      " Epoch 22: iteration 106/107\n",
      "Epoch 22 --> loss:1.7490, acc:28.42%, val_loss:2.3759, val_acc:16.78%\n",
      " Epoch 23: iteration 106/107\n",
      "Epoch 23 --> loss:1.7384, acc:29.32%, val_loss:2.3748, val_acc:16.08%\n",
      " Epoch 24: iteration 106/107\n",
      "Epoch 24 --> loss:1.7326, acc:29.61%, val_loss:2.4378, val_acc:16.08%\n",
      " Epoch 25: iteration 106/107\n",
      "Epoch 25 --> loss:1.7325, acc:29.29%, val_loss:2.3457, val_acc:16.78%\n",
      " Epoch 26: iteration 106/107\n",
      "Epoch 26 --> loss:1.7305, acc:30.14%, val_loss:2.3819, val_acc:19.58%\n",
      " Epoch 27: iteration 106/107\n",
      "Epoch 27 --> loss:1.7154, acc:30.78%, val_loss:2.3150, val_acc:16.08%\n",
      " Epoch 28: iteration 106/107\n",
      "Epoch 28 --> loss:1.7196, acc:29.76%, val_loss:2.3053, val_acc:18.18%\n",
      " Epoch 29: iteration 106/107\n",
      "Epoch 29 --> loss:1.7024, acc:29.82%, val_loss:2.2535, val_acc:20.98%\n",
      " Epoch 30: iteration 106/107\n",
      "Epoch 30 --> loss:1.7026, acc:31.24%, val_loss:2.3695, val_acc:18.18%\n",
      " Epoch 31: iteration 106/107\n",
      "Epoch 31 --> loss:1.6999, acc:30.69%, val_loss:2.2917, val_acc:19.58%\n",
      " Epoch 32: iteration 106/107\n",
      "Epoch 32 --> loss:1.6983, acc:30.75%, val_loss:2.2004, val_acc:21.68%\n",
      " Epoch 33: iteration 106/107\n",
      "Epoch 33 --> loss:1.6792, acc:32.52%, val_loss:2.2520, val_acc:20.98%\n",
      " Epoch 34: iteration 106/107\n",
      "Epoch 34 --> loss:1.6655, acc:33.62%, val_loss:2.3736, val_acc:16.78%\n",
      " Epoch 35: iteration 106/107\n",
      "Epoch 35 --> loss:1.6753, acc:31.76%, val_loss:2.1978, val_acc:25.17%\n",
      " Epoch 36: iteration 106/107\n",
      "Epoch 36 --> loss:1.6714, acc:32.55%, val_loss:2.2933, val_acc:19.58%\n",
      " Epoch 37: iteration 106/107\n",
      "Epoch 37 --> loss:1.6643, acc:32.93%, val_loss:2.3312, val_acc:14.69%\n",
      " Epoch 38: iteration 106/107\n",
      "Epoch 38 --> loss:1.6559, acc:34.61%, val_loss:2.1640, val_acc:23.08%\n",
      " Epoch 39: iteration 106/107\n",
      "Epoch 39 --> loss:1.6446, acc:34.21%, val_loss:2.1077, val_acc:24.48%\n",
      " Epoch 40: iteration 106/107\n",
      "Epoch 40 --> loss:1.6503, acc:33.33%, val_loss:2.1944, val_acc:18.88%\n",
      " Epoch 41: iteration 106/107\n",
      "Epoch 41 --> loss:1.6241, acc:35.11%, val_loss:2.1891, val_acc:21.68%\n",
      " Epoch 42: iteration 106/107\n",
      "Epoch 42 --> loss:1.6360, acc:34.15%, val_loss:2.0889, val_acc:29.37%\n",
      " Epoch 43: iteration 106/107\n",
      "Epoch 43 --> loss:1.6101, acc:35.89%, val_loss:2.1549, val_acc:25.17%\n",
      " Epoch 44: iteration 106/107\n",
      "Epoch 44 --> loss:1.6088, acc:37.17%, val_loss:2.1303, val_acc:23.78%\n",
      " Epoch 45: iteration 106/107\n",
      "Epoch 45 --> loss:1.6180, acc:36.12%, val_loss:2.2194, val_acc:23.08%\n",
      " Epoch 46: iteration 106/107\n",
      "Epoch 46 --> loss:1.5914, acc:36.50%, val_loss:1.9892, val_acc:31.47%\n",
      " Epoch 47: iteration 106/107\n",
      "Epoch 47 --> loss:1.5927, acc:36.36%, val_loss:1.9166, val_acc:32.87%\n",
      " Epoch 48: iteration 106/107\n",
      "Epoch 48 --> loss:1.5810, acc:35.95%, val_loss:1.9035, val_acc:33.57%\n",
      " Epoch 49: iteration 106/107\n",
      "Epoch 49 --> loss:1.5874, acc:36.36%, val_loss:1.9022, val_acc:33.57%\n",
      " Epoch 50: iteration 106/107\n",
      "Epoch 50 --> loss:1.5673, acc:38.10%, val_loss:2.1068, val_acc:27.27%\n",
      " Epoch 51: iteration 106/107\n",
      "Epoch 51 --> loss:1.5490, acc:38.30%, val_loss:1.9251, val_acc:34.97%\n",
      " Epoch 52: iteration 106/107\n",
      "Epoch 52 --> loss:1.5532, acc:38.33%, val_loss:2.0819, val_acc:27.97%\n",
      " Epoch 53: iteration 106/107\n",
      "Epoch 53 --> loss:1.5405, acc:39.93%, val_loss:1.9906, val_acc:30.07%\n",
      " Epoch 54: iteration 106/107\n",
      "Epoch 54 --> loss:1.5408, acc:38.65%, val_loss:1.9114, val_acc:34.97%\n",
      " Epoch 55: iteration 106/107\n",
      "Epoch 55 --> loss:1.5332, acc:39.44%, val_loss:1.8846, val_acc:37.06%\n",
      " Epoch 56: iteration 106/107\n",
      "Epoch 56 --> loss:1.5135, acc:39.76%, val_loss:2.0160, val_acc:28.67%\n",
      " Epoch 57: iteration 106/107\n",
      "Epoch 57 --> loss:1.5196, acc:40.22%, val_loss:1.8708, val_acc:35.66%\n",
      " Epoch 58: iteration 106/107\n",
      "Epoch 58 --> loss:1.4983, acc:40.54%, val_loss:2.0323, val_acc:29.37%\n",
      " Epoch 59: iteration 106/107\n",
      "Epoch 59 --> loss:1.5009, acc:40.98%, val_loss:1.8658, val_acc:33.57%\n",
      " Epoch 60: iteration 106/107\n",
      "Epoch 60 --> loss:1.5031, acc:40.95%, val_loss:1.7871, val_acc:35.66%\n",
      " Epoch 61: iteration 106/107\n",
      "Epoch 61 --> loss:1.4939, acc:41.62%, val_loss:1.8217, val_acc:37.76%\n",
      " Epoch 62: iteration 106/107\n",
      "Epoch 62 --> loss:1.4759, acc:41.82%, val_loss:1.7894, val_acc:40.56%\n",
      " Epoch 63: iteration 106/107\n",
      "Epoch 63 --> loss:1.4759, acc:40.71%, val_loss:1.6706, val_acc:44.06%\n",
      " Epoch 64: iteration 106/107\n",
      "Epoch 64 --> loss:1.4621, acc:41.88%, val_loss:1.7503, val_acc:39.16%\n",
      " Epoch 65: iteration 106/107\n",
      "Epoch 65 --> loss:1.4757, acc:41.62%, val_loss:1.7421, val_acc:40.56%\n",
      " Epoch 66: iteration 106/107\n",
      "Epoch 66 --> loss:1.4489, acc:42.55%, val_loss:1.9122, val_acc:37.06%\n",
      " Epoch 67: iteration 106/107\n",
      "Epoch 67 --> loss:1.4427, acc:43.42%, val_loss:1.6863, val_acc:38.46%\n",
      " Epoch 68: iteration 106/107\n",
      "Epoch 68 --> loss:1.4535, acc:42.43%, val_loss:1.8770, val_acc:37.06%\n",
      " Epoch 69: iteration 106/107\n",
      "Epoch 69 --> loss:1.4626, acc:41.38%, val_loss:1.7099, val_acc:39.16%\n",
      " Epoch 70: iteration 106/107\n",
      "Epoch 70 --> loss:1.4261, acc:43.91%, val_loss:1.6825, val_acc:39.86%\n",
      " Epoch 71: iteration 106/107\n",
      "Epoch 71 --> loss:1.4262, acc:43.97%, val_loss:1.7610, val_acc:40.56%\n",
      " Epoch 72: iteration 106/107\n",
      "Epoch 72 --> loss:1.4309, acc:44.84%, val_loss:1.6277, val_acc:44.06%\n",
      " Epoch 73: iteration 106/107\n",
      "Epoch 73 --> loss:1.4228, acc:43.82%, val_loss:1.7950, val_acc:39.86%\n",
      " Epoch 74: iteration 106/107\n",
      "Epoch 74 --> loss:1.4161, acc:43.42%, val_loss:1.6913, val_acc:39.86%\n",
      " Epoch 75: iteration 106/107\n",
      "Epoch 75 --> loss:1.4027, acc:45.13%, val_loss:1.6656, val_acc:41.96%\n",
      " Epoch 76: iteration 106/107\n",
      "Epoch 76 --> loss:1.3784, acc:44.84%, val_loss:1.7052, val_acc:45.45%\n",
      " Epoch 77: iteration 106/107\n",
      "Epoch 77 --> loss:1.3958, acc:44.46%, val_loss:1.6882, val_acc:44.06%\n",
      " Epoch 78: iteration 106/107\n",
      "Epoch 78 --> loss:1.3846, acc:44.55%, val_loss:1.5959, val_acc:44.06%\n",
      " Epoch 79: iteration 106/107\n",
      "Epoch 79 --> loss:1.3808, acc:44.78%, val_loss:1.6668, val_acc:41.96%\n",
      " Epoch 80: iteration 106/107\n",
      "Epoch 80 --> loss:1.3676, acc:46.29%, val_loss:1.6686, val_acc:44.76%\n",
      " Epoch 81: iteration 106/107\n",
      "Epoch 81 --> loss:1.3685, acc:45.48%, val_loss:1.5640, val_acc:42.66%\n",
      " Epoch 82: iteration 106/107\n",
      "Epoch 82 --> loss:1.3540, acc:47.54%, val_loss:1.5551, val_acc:41.96%\n",
      " Epoch 83: iteration 106/107\n",
      "Epoch 83 --> loss:1.3343, acc:47.14%, val_loss:1.5969, val_acc:44.76%\n",
      " Epoch 84: iteration 106/107\n",
      "Epoch 84 --> loss:1.3337, acc:47.78%, val_loss:1.6802, val_acc:40.56%\n",
      " Epoch 85: iteration 106/107\n",
      "Epoch 85 --> loss:1.3492, acc:45.86%, val_loss:1.7825, val_acc:42.66%\n",
      " Epoch 86: iteration 106/107\n",
      "Epoch 86 --> loss:1.3239, acc:47.72%, val_loss:1.5847, val_acc:43.36%\n",
      " Epoch 87: iteration 106/107\n",
      "Epoch 87 --> loss:1.3239, acc:46.70%, val_loss:1.7580, val_acc:44.06%\n",
      " Epoch 88: iteration 106/107\n",
      "Epoch 88 --> loss:1.2970, acc:49.29%, val_loss:1.6268, val_acc:40.56%\n",
      " Epoch 89: iteration 106/107\n",
      "Epoch 89 --> loss:1.3025, acc:49.20%, val_loss:1.5660, val_acc:46.15%\n",
      " Epoch 90: iteration 106/107\n",
      "Epoch 90 --> loss:1.3111, acc:49.11%, val_loss:1.5565, val_acc:40.56%\n",
      " Epoch 91: iteration 106/107\n",
      "Epoch 91 --> loss:1.2758, acc:49.64%, val_loss:1.5333, val_acc:44.76%\n",
      " Epoch 92: iteration 106/107\n",
      "Epoch 92 --> loss:1.3017, acc:49.58%, val_loss:1.6262, val_acc:46.15%\n",
      " Epoch 93: iteration 106/107\n",
      "Epoch 93 --> loss:1.2728, acc:49.52%, val_loss:1.5777, val_acc:44.76%\n",
      " Epoch 94: iteration 106/107\n",
      "Epoch 94 --> loss:1.2806, acc:48.50%, val_loss:1.6315, val_acc:46.15%\n",
      " Epoch 95: iteration 106/107\n",
      "Epoch 95 --> loss:1.2660, acc:50.68%, val_loss:1.5568, val_acc:46.85%\n",
      " Epoch 96: iteration 106/107\n",
      "Epoch 96 --> loss:1.2648, acc:50.31%, val_loss:1.5830, val_acc:47.55%\n",
      " Epoch 97: iteration 106/107\n",
      "Epoch 97 --> loss:1.2590, acc:50.33%, val_loss:1.6227, val_acc:41.26%\n",
      " Epoch 98: iteration 106/107\n",
      "Epoch 98 --> loss:1.2447, acc:51.29%, val_loss:1.7818, val_acc:41.26%\n",
      " Epoch 99: iteration 106/107\n",
      "Epoch 99 --> loss:1.2324, acc:52.89%, val_loss:1.4824, val_acc:48.25%\n",
      " Epoch 100: iteration 106/107\n",
      "Epoch 100 --> loss:1.2363, acc:51.29%, val_loss:1.5870, val_acc:43.36%\n",
      " Epoch 101: iteration 106/107\n",
      "Epoch 101 --> loss:1.2191, acc:51.87%, val_loss:1.4544, val_acc:46.85%\n",
      " Epoch 102: iteration 106/107\n",
      "Epoch 102 --> loss:1.1855, acc:53.71%, val_loss:1.4837, val_acc:48.25%\n",
      " Epoch 103: iteration 106/107\n",
      "Epoch 103 --> loss:1.2112, acc:52.40%, val_loss:1.6271, val_acc:46.85%\n",
      " Epoch 104: iteration 106/107\n",
      "Epoch 104 --> loss:1.1888, acc:53.53%, val_loss:1.6450, val_acc:43.36%\n",
      " Epoch 105: iteration 106/107\n",
      "Epoch 105 --> loss:1.1953, acc:52.69%, val_loss:1.4733, val_acc:45.45%\n",
      " Epoch 106: iteration 106/107\n",
      "Epoch 106 --> loss:1.2011, acc:53.24%, val_loss:1.6810, val_acc:41.96%\n",
      " Epoch 107: iteration 106/107\n",
      "Epoch 107 --> loss:1.1704, acc:55.22%, val_loss:1.7379, val_acc:37.06%\n",
      " Epoch 108: iteration 106/107\n",
      "Epoch 108 --> loss:1.1634, acc:53.88%, val_loss:1.6524, val_acc:45.45%\n",
      " Epoch 109: iteration 106/107\n",
      "Epoch 109 --> loss:1.1622, acc:55.27%, val_loss:1.5895, val_acc:45.45%\n",
      " Epoch 110: iteration 106/107\n",
      "Epoch 110 --> loss:1.1398, acc:55.54%, val_loss:1.6609, val_acc:46.15%\n",
      " Epoch 111: iteration 106/107\n",
      "Epoch 111 --> loss:1.1262, acc:55.27%, val_loss:1.5176, val_acc:48.95%\n",
      " Epoch 112: iteration 106/107\n",
      "Epoch 112 --> loss:1.1315, acc:55.01%, val_loss:1.5481, val_acc:47.55%\n",
      " Epoch 113: iteration 106/107\n",
      "Epoch 113 --> loss:1.1207, acc:56.00%, val_loss:1.7754, val_acc:37.76%\n",
      " Epoch 114: iteration 106/107\n",
      "Epoch 114 --> loss:1.0908, acc:56.99%, val_loss:1.8276, val_acc:36.36%\n",
      " Epoch 115: iteration 106/107\n",
      "Epoch 115 --> loss:1.1056, acc:56.84%, val_loss:1.7011, val_acc:40.56%\n",
      " Epoch 116: iteration 106/107\n",
      "Epoch 116 --> loss:1.0813, acc:58.56%, val_loss:1.8213, val_acc:37.76%\n",
      " Epoch 117: iteration 106/107\n",
      "Epoch 117 --> loss:1.0922, acc:56.67%, val_loss:1.5639, val_acc:48.95%\n",
      " Epoch 118: iteration 106/107\n",
      "Epoch 118 --> loss:1.0784, acc:58.18%, val_loss:1.6681, val_acc:39.86%\n",
      " Epoch 119: iteration 106/107\n",
      "Epoch 119 --> loss:1.0975, acc:57.77%, val_loss:1.2767, val_acc:56.64%\n",
      " Epoch 120: iteration 106/107\n",
      "Epoch 120 --> loss:1.0777, acc:57.11%, val_loss:1.6008, val_acc:41.26%\n",
      " Epoch 121: iteration 106/107\n",
      "Epoch 121 --> loss:1.0613, acc:58.65%, val_loss:1.5572, val_acc:44.76%\n",
      " Epoch 122: iteration 106/107\n",
      "Epoch 122 --> loss:1.0424, acc:58.41%, val_loss:1.5934, val_acc:39.86%\n",
      " Epoch 123: iteration 106/107\n",
      "Epoch 123 --> loss:1.0430, acc:59.17%, val_loss:1.5178, val_acc:44.76%\n",
      " Epoch 124: iteration 106/107\n",
      "Epoch 124 --> loss:1.0676, acc:58.62%, val_loss:1.4499, val_acc:46.15%\n",
      " Epoch 125: iteration 106/107\n",
      "Epoch 125 --> loss:1.0306, acc:59.43%, val_loss:1.5566, val_acc:48.95%\n",
      " Epoch 126: iteration 106/107\n",
      "Epoch 126 --> loss:0.9983, acc:62.13%, val_loss:1.4458, val_acc:50.35%\n",
      " Epoch 127: iteration 106/107\n",
      "Epoch 127 --> loss:1.0190, acc:60.36%, val_loss:1.4464, val_acc:55.24%\n",
      " Epoch 128: iteration 106/107\n",
      "Epoch 128 --> loss:1.0120, acc:60.13%, val_loss:1.5916, val_acc:44.76%\n",
      " Epoch 129: iteration 106/107\n",
      "Epoch 129 --> loss:0.9929, acc:61.61%, val_loss:1.4526, val_acc:48.25%\n",
      " Epoch 130: iteration 106/107\n",
      "Epoch 130 --> loss:1.0033, acc:60.71%, val_loss:1.5314, val_acc:48.95%\n",
      " Epoch 131: iteration 106/107\n",
      "Epoch 131 --> loss:0.9988, acc:61.38%, val_loss:1.4190, val_acc:49.65%\n",
      " Epoch 132: iteration 106/107\n",
      "Epoch 132 --> loss:0.9696, acc:62.69%, val_loss:1.3094, val_acc:55.94%\n",
      " Epoch 133: iteration 106/107\n",
      "Epoch 133 --> loss:0.9868, acc:61.61%, val_loss:1.3761, val_acc:53.15%\n",
      " Epoch 134: iteration 106/107\n",
      "Epoch 134 --> loss:0.9577, acc:62.05%, val_loss:1.3764, val_acc:52.45%\n",
      " Epoch 135: iteration 106/107\n",
      "Epoch 135 --> loss:0.9664, acc:62.98%, val_loss:1.4194, val_acc:49.65%\n",
      " Epoch 136: iteration 106/107\n",
      "Epoch 136 --> loss:0.9526, acc:63.44%, val_loss:1.2835, val_acc:50.35%\n",
      " Epoch 137: iteration 106/107\n",
      "Epoch 137 --> loss:0.9378, acc:63.44%, val_loss:1.4110, val_acc:48.25%\n",
      " Epoch 138: iteration 106/107\n",
      "Epoch 138 --> loss:0.9314, acc:62.74%, val_loss:1.3039, val_acc:53.15%\n",
      " Epoch 139: iteration 106/107\n",
      "Epoch 139 --> loss:0.9545, acc:63.32%, val_loss:1.4501, val_acc:46.85%\n",
      " Epoch 140: iteration 106/107\n",
      "Epoch 140 --> loss:0.9351, acc:63.88%, val_loss:1.3604, val_acc:51.75%\n",
      " Epoch 141: iteration 106/107\n",
      "Epoch 141 --> loss:0.9425, acc:62.95%, val_loss:1.3375, val_acc:53.15%\n",
      " Epoch 142: iteration 106/107\n",
      "Epoch 142 --> loss:0.9216, acc:64.86%, val_loss:1.2890, val_acc:52.45%\n",
      " Epoch 143: iteration 106/107\n",
      "Epoch 143 --> loss:0.9341, acc:63.91%, val_loss:1.3971, val_acc:47.55%\n",
      " Epoch 144: iteration 106/107\n",
      "Epoch 144 --> loss:0.8950, acc:64.78%, val_loss:1.3450, val_acc:54.55%\n",
      " Epoch 145: iteration 106/107\n",
      "Epoch 145 --> loss:0.9163, acc:65.18%, val_loss:1.4797, val_acc:51.75%\n",
      " Epoch 146: iteration 106/107\n",
      "Epoch 146 --> loss:0.8971, acc:64.98%, val_loss:1.3087, val_acc:57.34%\n",
      " Epoch 147: iteration 106/107\n",
      "Epoch 147 --> loss:0.8818, acc:65.33%, val_loss:1.3711, val_acc:54.55%\n",
      " Epoch 148: iteration 106/107\n",
      "Epoch 148 --> loss:0.8885, acc:64.49%, val_loss:1.4610, val_acc:50.35%\n",
      " Epoch 149: iteration 106/107\n",
      "Epoch 149 --> loss:0.8822, acc:65.94%, val_loss:1.7395, val_acc:46.15%\n",
      " Epoch 150: iteration 106/107\n",
      "Epoch 150 --> loss:0.8939, acc:65.07%, val_loss:1.3303, val_acc:55.94%\n",
      " Epoch 151: iteration 106/107\n",
      "Epoch 151 --> loss:0.8737, acc:66.09%, val_loss:1.2180, val_acc:57.34%\n",
      " Epoch 152: iteration 106/107\n",
      "Epoch 152 --> loss:0.8328, acc:67.28%, val_loss:1.3437, val_acc:53.15%\n",
      " Epoch 153: iteration 106/107\n",
      "Epoch 153 --> loss:0.8405, acc:67.16%, val_loss:1.3586, val_acc:54.55%\n",
      " Epoch 154: iteration 106/107\n",
      "Epoch 154 --> loss:0.8512, acc:66.67%, val_loss:1.4723, val_acc:49.65%\n",
      " Epoch 155: iteration 106/107\n",
      "Epoch 155 --> loss:0.8133, acc:68.79%, val_loss:1.1382, val_acc:61.54%\n",
      " Epoch 156: iteration 106/107\n",
      "Epoch 156 --> loss:0.8445, acc:67.31%, val_loss:1.4329, val_acc:48.95%\n",
      " Epoch 157: iteration 106/107\n",
      "Epoch 157 --> loss:0.8237, acc:66.81%, val_loss:1.3402, val_acc:53.15%\n",
      " Epoch 158: iteration 106/107\n",
      "Epoch 158 --> loss:0.8153, acc:68.35%, val_loss:1.2820, val_acc:55.24%\n",
      " Epoch 159: iteration 106/107\n",
      "Epoch 159 --> loss:0.7982, acc:67.97%, val_loss:1.4359, val_acc:53.15%\n",
      " Epoch 160: iteration 106/107\n",
      "Epoch 160 --> loss:0.8303, acc:67.80%, val_loss:1.1087, val_acc:62.94%\n",
      " Epoch 161: iteration 106/107\n",
      "Epoch 161 --> loss:0.7872, acc:69.31%, val_loss:1.3995, val_acc:56.64%\n",
      " Epoch 162: iteration 106/107\n",
      "Epoch 162 --> loss:0.8011, acc:68.15%, val_loss:1.3739, val_acc:52.45%\n",
      " Epoch 163: iteration 106/107\n",
      "Epoch 163 --> loss:0.7979, acc:68.90%, val_loss:1.1569, val_acc:61.54%\n",
      " Epoch 164: iteration 106/107\n",
      "Epoch 164 --> loss:0.7999, acc:69.95%, val_loss:1.2043, val_acc:59.44%\n",
      " Epoch 165: iteration 106/107\n",
      "Epoch 165 --> loss:0.7863, acc:69.17%, val_loss:1.5566, val_acc:52.45%\n",
      " Epoch 166: iteration 106/107\n",
      "Epoch 166 --> loss:0.8041, acc:69.11%, val_loss:1.1418, val_acc:60.84%\n",
      " Epoch 167: iteration 106/107\n",
      "Epoch 167 --> loss:0.7685, acc:69.86%, val_loss:1.0935, val_acc:58.74%\n",
      " Epoch 168: iteration 106/107\n",
      "Epoch 168 --> loss:0.7900, acc:69.17%, val_loss:1.1869, val_acc:58.04%\n",
      " Epoch 169: iteration 106/107\n",
      "Epoch 169 --> loss:0.7799, acc:69.60%, val_loss:1.1390, val_acc:62.94%\n",
      " Epoch 170: iteration 106/107\n",
      "Epoch 170 --> loss:0.7883, acc:69.11%, val_loss:1.2428, val_acc:58.74%\n",
      " Epoch 171: iteration 106/107\n",
      "Epoch 171 --> loss:0.7465, acc:71.23%, val_loss:1.2447, val_acc:58.74%\n",
      " Epoch 172: iteration 106/107\n",
      "Epoch 172 --> loss:0.7761, acc:69.17%, val_loss:1.4613, val_acc:48.25%\n",
      " Epoch 173: iteration 106/107\n",
      "Epoch 173 --> loss:0.7590, acc:70.27%, val_loss:1.3082, val_acc:57.34%\n",
      " Epoch 174: iteration 106/107\n",
      "Epoch 174 --> loss:0.7696, acc:70.27%, val_loss:1.3178, val_acc:55.94%\n",
      " Epoch 175: iteration 106/107\n",
      "Epoch 175 --> loss:0.7666, acc:69.86%, val_loss:1.1715, val_acc:62.24%\n",
      " Epoch 176: iteration 106/107\n",
      "Epoch 176 --> loss:0.7210, acc:71.35%, val_loss:1.3623, val_acc:55.94%\n",
      " Epoch 177: iteration 106/107\n",
      "Epoch 177 --> loss:0.7410, acc:71.35%, val_loss:1.0823, val_acc:64.34%\n",
      " Epoch 178: iteration 106/107\n",
      "Epoch 178 --> loss:0.7461, acc:71.40%, val_loss:1.4344, val_acc:54.55%\n",
      " Epoch 179: iteration 106/107\n",
      "Epoch 179 --> loss:0.7295, acc:71.81%, val_loss:1.2018, val_acc:55.24%\n",
      " Epoch 180: iteration 106/107\n",
      "Epoch 180 --> loss:0.7486, acc:71.05%, val_loss:1.4913, val_acc:48.95%\n",
      " Epoch 181: iteration 106/107\n",
      "Epoch 181 --> loss:0.7478, acc:71.05%, val_loss:1.2900, val_acc:59.44%\n",
      " Epoch 182: iteration 106/107\n",
      "Epoch 182 --> loss:0.7408, acc:71.26%, val_loss:1.2961, val_acc:54.55%\n",
      " Epoch 183: iteration 106/107\n",
      "Epoch 183 --> loss:0.7410, acc:70.94%, val_loss:1.2962, val_acc:54.55%\n",
      " Epoch 184: iteration 106/107\n",
      "Epoch 184 --> loss:0.7157, acc:71.55%, val_loss:1.2053, val_acc:62.24%\n",
      " Epoch 185: iteration 106/107\n",
      "Epoch 185 --> loss:0.7085, acc:72.62%, val_loss:1.2299, val_acc:57.34%\n",
      " Epoch 186: iteration 106/107\n",
      "Epoch 186 --> loss:0.7305, acc:70.97%, val_loss:1.2175, val_acc:58.04%\n",
      " Epoch 187: iteration 106/107\n",
      "Epoch 187 --> loss:0.7135, acc:72.28%, val_loss:1.2877, val_acc:56.64%\n",
      " Epoch 188: iteration 106/107\n",
      "Epoch 188 --> loss:0.7280, acc:72.07%, val_loss:1.2556, val_acc:57.34%\n",
      " Epoch 189: iteration 106/107\n",
      "Epoch 189 --> loss:0.7206, acc:71.26%, val_loss:1.2848, val_acc:57.34%\n",
      " Epoch 190: iteration 106/107\n",
      "Epoch 190 --> loss:0.7101, acc:72.57%, val_loss:1.2011, val_acc:58.74%\n",
      " Epoch 191: iteration 106/107\n",
      "Epoch 191 --> loss:0.7101, acc:72.42%, val_loss:1.1468, val_acc:60.84%\n",
      " Epoch 192: iteration 106/107\n",
      "Epoch 192 --> loss:0.7145, acc:72.25%, val_loss:1.0912, val_acc:63.64%\n",
      " Epoch 193: iteration 106/107\n",
      "Epoch 193 --> loss:0.7059, acc:72.04%, val_loss:1.1490, val_acc:60.14%\n",
      " Epoch 194: iteration 106/107\n",
      "Epoch 194 --> loss:0.7255, acc:72.30%, val_loss:1.1790, val_acc:60.14%\n",
      " Epoch 195: iteration 106/107\n",
      "Epoch 195 --> loss:0.7040, acc:72.25%, val_loss:1.2505, val_acc:58.74%\n",
      " Epoch 196: iteration 106/107\n",
      "Epoch 196 --> loss:0.7102, acc:73.23%, val_loss:1.1823, val_acc:60.84%\n",
      " Epoch 197: iteration 106/107\n",
      "Epoch 197 --> loss:0.6642, acc:74.57%, val_loss:1.1255, val_acc:63.64%\n",
      " Epoch 198: iteration 106/107\n",
      "Epoch 198 --> loss:0.7048, acc:72.57%, val_loss:1.3274, val_acc:55.94%\n",
      " Epoch 199: iteration 106/107\n",
      "Epoch 199 --> loss:0.7234, acc:72.36%, val_loss:1.2309, val_acc:51.75%\n",
      " Epoch 200: iteration 106/107\n",
      "Epoch 200 --> loss:0.6996, acc:72.71%, val_loss:1.2055, val_acc:60.84%\n",
      " Epoch 201: iteration 106/107\n",
      "Epoch 201 --> loss:0.6726, acc:73.96%, val_loss:1.1457, val_acc:62.24%\n",
      " Epoch 202: iteration 106/107\n",
      "Epoch 202 --> loss:0.6812, acc:73.70%, val_loss:1.1032, val_acc:58.74%\n",
      " Epoch 203: iteration 106/107\n",
      "Epoch 203 --> loss:0.6833, acc:73.26%, val_loss:1.1818, val_acc:61.54%\n",
      " Epoch 204: iteration 106/107\n",
      "Epoch 204 --> loss:0.6608, acc:74.40%, val_loss:1.0765, val_acc:65.03%\n",
      " Epoch 205: iteration 106/107\n",
      "Epoch 205 --> loss:0.6496, acc:74.83%, val_loss:1.0829, val_acc:66.43%\n",
      " Epoch 206: iteration 106/107\n",
      "Epoch 206 --> loss:0.6681, acc:74.28%, val_loss:1.0792, val_acc:60.84%\n",
      " Epoch 207: iteration 106/107\n",
      "Epoch 207 --> loss:0.6877, acc:73.50%, val_loss:1.0366, val_acc:64.34%\n",
      " Epoch 208: iteration 106/107\n",
      "Epoch 208 --> loss:0.6519, acc:74.37%, val_loss:0.9967, val_acc:67.13%\n",
      " Epoch 209: iteration 106/107\n",
      "Epoch 209 --> loss:0.6386, acc:74.75%, val_loss:1.0070, val_acc:66.43%\n",
      " Epoch 210: iteration 106/107\n",
      "Epoch 210 --> loss:0.6666, acc:74.51%, val_loss:1.0380, val_acc:64.34%\n",
      " Epoch 211: iteration 106/107\n",
      "Epoch 211 --> loss:0.6552, acc:74.40%, val_loss:1.0769, val_acc:65.03%\n",
      " Epoch 212: iteration 106/107\n",
      "Epoch 212 --> loss:0.6630, acc:74.37%, val_loss:1.0652, val_acc:61.54%\n",
      " Epoch 213: iteration 106/107\n",
      "Epoch 213 --> loss:0.6399, acc:74.80%, val_loss:1.3234, val_acc:55.24%\n",
      " Epoch 214: iteration 106/107\n",
      "Epoch 214 --> loss:0.6380, acc:75.91%, val_loss:1.1840, val_acc:58.74%\n",
      " Epoch 215: iteration 106/107\n",
      "Epoch 215 --> loss:0.6602, acc:74.31%, val_loss:0.9671, val_acc:65.73%\n",
      " Epoch 216: iteration 106/107\n",
      "Epoch 216 --> loss:0.6257, acc:75.36%, val_loss:1.0198, val_acc:66.43%\n",
      " Epoch 217: iteration 106/107\n",
      "Epoch 217 --> loss:0.6452, acc:75.15%, val_loss:1.0420, val_acc:63.64%\n",
      " Epoch 218: iteration 106/107\n",
      "Epoch 218 --> loss:0.6545, acc:74.37%, val_loss:0.9397, val_acc:68.53%\n",
      " Epoch 219: iteration 106/107\n",
      "Epoch 219 --> loss:0.6448, acc:74.92%, val_loss:1.2225, val_acc:57.34%\n",
      " Epoch 220: iteration 106/107\n",
      "Epoch 220 --> loss:0.6430, acc:75.41%, val_loss:1.0145, val_acc:66.43%\n",
      " Epoch 221: iteration 106/107\n",
      "Epoch 221 --> loss:0.6272, acc:75.91%, val_loss:0.9917, val_acc:68.53%\n",
      " Epoch 222: iteration 106/107\n",
      "Epoch 222 --> loss:0.6438, acc:75.27%, val_loss:0.9717, val_acc:68.53%\n",
      " Epoch 223: iteration 106/107\n",
      "Epoch 223 --> loss:0.6228, acc:75.70%, val_loss:1.0039, val_acc:65.03%\n",
      " Epoch 224: iteration 106/107\n",
      "Epoch 224 --> loss:0.6109, acc:76.72%, val_loss:0.9486, val_acc:71.33%\n",
      " Epoch 225: iteration 106/107\n",
      "Epoch 225 --> loss:0.6305, acc:75.59%, val_loss:1.0037, val_acc:68.53%\n",
      " Epoch 226: iteration 106/107\n",
      "Epoch 226 --> loss:0.6366, acc:75.56%, val_loss:0.9281, val_acc:67.83%\n",
      " Epoch 227: iteration 106/107\n",
      "Epoch 227 --> loss:0.6594, acc:73.76%, val_loss:0.9933, val_acc:65.03%\n",
      " Epoch 228: iteration 106/107\n",
      "Epoch 228 --> loss:0.6202, acc:76.08%, val_loss:0.9704, val_acc:66.43%\n",
      " Epoch 229: iteration 106/107\n",
      "Epoch 229 --> loss:0.6098, acc:77.48%, val_loss:1.0826, val_acc:65.03%\n",
      " Epoch 230: iteration 106/107\n",
      "Epoch 230 --> loss:0.6254, acc:76.61%, val_loss:1.0876, val_acc:61.54%\n",
      " Epoch 231: iteration 106/107\n",
      "Epoch 231 --> loss:0.5984, acc:76.00%, val_loss:1.1045, val_acc:64.34%\n",
      " Epoch 232: iteration 106/107\n",
      "Epoch 232 --> loss:0.6072, acc:76.75%, val_loss:0.9438, val_acc:70.63%\n",
      " Epoch 233: iteration 106/107\n",
      "Epoch 233 --> loss:0.6375, acc:75.39%, val_loss:0.9774, val_acc:67.13%\n",
      " Epoch 234: iteration 106/107\n",
      "Epoch 234 --> loss:0.6155, acc:76.37%, val_loss:1.0056, val_acc:70.63%\n",
      " Epoch 235: iteration 106/107\n",
      "Epoch 235 --> loss:0.5929, acc:77.36%, val_loss:1.0673, val_acc:65.03%\n",
      " Epoch 236: iteration 106/107\n",
      "Epoch 236 --> loss:0.6042, acc:76.00%, val_loss:1.0092, val_acc:67.13%\n",
      " Epoch 237: iteration 106/107\n",
      "Epoch 237 --> loss:0.5917, acc:77.80%, val_loss:1.0012, val_acc:68.53%\n",
      " Epoch 238: iteration 106/107\n",
      "Epoch 238 --> loss:0.5712, acc:77.71%, val_loss:1.0531, val_acc:63.64%\n",
      " Epoch 239: iteration 106/107\n",
      "Epoch 239 --> loss:0.6202, acc:75.82%, val_loss:1.0067, val_acc:67.13%\n",
      " Epoch 240: iteration 106/107\n",
      "Epoch 240 --> loss:0.5993, acc:77.30%, val_loss:0.9568, val_acc:69.93%\n",
      " Epoch 241: iteration 106/107\n",
      "Epoch 241 --> loss:0.5858, acc:77.36%, val_loss:1.1495, val_acc:59.44%\n",
      " Epoch 242: iteration 106/107\n",
      "Epoch 242 --> loss:0.6242, acc:74.92%, val_loss:1.0376, val_acc:67.83%\n",
      " Epoch 243: iteration 106/107\n",
      "Epoch 243 --> loss:0.5890, acc:78.15%, val_loss:1.0860, val_acc:62.24%\n",
      " Epoch 244: iteration 106/107\n",
      "Epoch 244 --> loss:0.5844, acc:77.13%, val_loss:1.0626, val_acc:65.73%\n",
      " Epoch 245: iteration 106/107\n",
      "Epoch 245 --> loss:0.5888, acc:77.65%, val_loss:1.3578, val_acc:50.35%\n",
      " Epoch 246: iteration 106/107\n",
      "Epoch 246 --> loss:0.5808, acc:78.61%, val_loss:1.0779, val_acc:65.03%\n",
      " Epoch 247: iteration 106/107\n",
      "Epoch 247 --> loss:0.5997, acc:76.98%, val_loss:0.9243, val_acc:73.43%\n",
      " Epoch 248: iteration 106/107\n",
      "Epoch 248 --> loss:0.6078, acc:76.75%, val_loss:1.2621, val_acc:55.94%\n",
      " Epoch 249: iteration 106/107\n",
      "Epoch 249 --> loss:0.5738, acc:78.03%, val_loss:1.1007, val_acc:62.94%\n",
      " Epoch 250: iteration 106/107\n",
      "Epoch 250 --> loss:0.5570, acc:78.61%, val_loss:0.9483, val_acc:69.93%\n",
      " Epoch 251: iteration 106/107\n",
      "Epoch 251 --> loss:0.5708, acc:77.94%, val_loss:1.0957, val_acc:65.73%\n",
      " Epoch 252: iteration 106/107\n",
      "Epoch 252 --> loss:0.5647, acc:78.47%, val_loss:0.9852, val_acc:67.13%\n",
      " Epoch 253: iteration 106/107\n",
      "Epoch 253 --> loss:0.5820, acc:77.07%, val_loss:0.8743, val_acc:72.73%\n",
      " Epoch 254: iteration 106/107\n",
      "Epoch 254 --> loss:0.5698, acc:78.00%, val_loss:0.9161, val_acc:71.33%\n",
      " Epoch 255: iteration 106/107\n",
      "Epoch 255 --> loss:0.5538, acc:78.58%, val_loss:0.9940, val_acc:69.23%\n",
      " Epoch 256: iteration 106/107\n",
      "Epoch 256 --> loss:0.5629, acc:78.67%, val_loss:0.9445, val_acc:68.53%\n",
      " Epoch 257: iteration 106/107\n",
      "Epoch 257 --> loss:0.5561, acc:78.44%, val_loss:0.9944, val_acc:68.53%\n",
      " Epoch 258: iteration 106/107\n",
      "Epoch 258 --> loss:0.5476, acc:78.79%, val_loss:1.0395, val_acc:69.23%\n",
      " Epoch 259: iteration 106/107\n",
      "Epoch 259 --> loss:0.6023, acc:76.95%, val_loss:0.9468, val_acc:72.03%\n",
      " Epoch 260: iteration 106/107\n",
      "Epoch 260 --> loss:0.5651, acc:78.38%, val_loss:0.9488, val_acc:70.63%\n",
      " Epoch 261: iteration 106/107\n",
      "Epoch 261 --> loss:0.5803, acc:78.15%, val_loss:1.1363, val_acc:60.84%\n",
      " Epoch 262: iteration 106/107\n",
      "Epoch 262 --> loss:0.5937, acc:76.98%, val_loss:1.0524, val_acc:61.54%\n",
      " Epoch 263: iteration 106/107\n",
      "Epoch 263 --> loss:0.5539, acc:78.06%, val_loss:0.9830, val_acc:69.93%\n",
      " Epoch 264: iteration 106/107\n",
      "Epoch 264 --> loss:0.5615, acc:78.81%, val_loss:1.0730, val_acc:64.34%\n",
      " Epoch 265: iteration 106/107\n",
      "Epoch 265 --> loss:0.5432, acc:78.96%, val_loss:1.0348, val_acc:70.63%\n",
      " Epoch 266: iteration 106/107\n",
      "Epoch 266 --> loss:0.5561, acc:78.99%, val_loss:0.9853, val_acc:67.83%\n",
      " Epoch 267: iteration 106/107\n",
      "Epoch 267 --> loss:0.5803, acc:77.71%, val_loss:1.0003, val_acc:64.34%\n",
      " Epoch 268: iteration 106/107\n",
      "Epoch 268 --> loss:0.5461, acc:79.05%, val_loss:0.9766, val_acc:71.33%\n",
      " Epoch 269: iteration 106/107\n",
      "Epoch 269 --> loss:0.5334, acc:80.09%, val_loss:1.0397, val_acc:61.54%\n",
      " Epoch 270: iteration 106/107\n",
      "Epoch 270 --> loss:0.5302, acc:80.56%, val_loss:0.9429, val_acc:71.33%\n",
      " Epoch 271: iteration 106/107\n",
      "Epoch 271 --> loss:0.5548, acc:78.76%, val_loss:1.2428, val_acc:53.85%\n",
      " Epoch 272: iteration 106/107\n",
      "Epoch 272 --> loss:0.5548, acc:78.96%, val_loss:0.8966, val_acc:70.63%\n",
      " Epoch 273: iteration 106/107\n",
      "Epoch 273 --> loss:0.5414, acc:79.10%, val_loss:1.0421, val_acc:65.03%\n",
      " Epoch 274: iteration 106/107\n",
      "Epoch 274 --> loss:0.5630, acc:78.90%, val_loss:0.9276, val_acc:69.93%\n",
      " Epoch 275: iteration 106/107\n",
      "Epoch 275 --> loss:0.5558, acc:78.64%, val_loss:0.9391, val_acc:68.53%\n",
      " Epoch 276: iteration 106/107\n",
      "Epoch 276 --> loss:0.5354, acc:79.80%, val_loss:0.8759, val_acc:72.73%\n",
      " Epoch 277: iteration 106/107\n",
      "Epoch 277 --> loss:0.5573, acc:79.22%, val_loss:1.0172, val_acc:65.03%\n",
      " Epoch 278: iteration 106/107\n",
      "Epoch 278 --> loss:0.5337, acc:78.81%, val_loss:0.9862, val_acc:72.73%\n",
      " Epoch 279: iteration 106/107\n",
      "Epoch 279 --> loss:0.5174, acc:81.05%, val_loss:1.0498, val_acc:69.23%\n",
      " Epoch 280: iteration 106/107\n",
      "Epoch 280 --> loss:0.5229, acc:80.47%, val_loss:0.9413, val_acc:70.63%\n",
      " Epoch 281: iteration 106/107\n",
      "Epoch 281 --> loss:0.5283, acc:80.21%, val_loss:0.8820, val_acc:72.73%\n",
      " Epoch 282: iteration 106/107\n",
      "Epoch 282 --> loss:0.5546, acc:78.44%, val_loss:0.9654, val_acc:71.33%\n",
      " Epoch 283: iteration 106/107\n",
      "Epoch 283 --> loss:0.5133, acc:81.14%, val_loss:0.9841, val_acc:71.33%\n",
      " Epoch 284: iteration 106/107\n",
      "Epoch 284 --> loss:0.5240, acc:79.72%, val_loss:0.8878, val_acc:71.33%\n",
      " Epoch 285: iteration 106/107\n",
      "Epoch 285 --> loss:0.5442, acc:79.34%, val_loss:1.0146, val_acc:69.93%\n",
      " Epoch 286: iteration 106/107\n",
      "Epoch 286 --> loss:0.5137, acc:80.91%, val_loss:0.9738, val_acc:70.63%\n",
      " Epoch 287: iteration 106/107\n",
      "Epoch 287 --> loss:0.5335, acc:80.41%, val_loss:1.1985, val_acc:58.74%\n",
      " Epoch 288: iteration 106/107\n",
      "Epoch 288 --> loss:0.5156, acc:80.53%, val_loss:0.9342, val_acc:72.03%\n",
      " Epoch 289: iteration 106/107\n",
      "Epoch 289 --> loss:0.5350, acc:79.80%, val_loss:0.9947, val_acc:65.73%\n",
      " Epoch 290: iteration 106/107\n",
      "Epoch 290 --> loss:0.5338, acc:79.25%, val_loss:0.8993, val_acc:74.83%\n",
      " Epoch 291: iteration 106/107\n",
      "Epoch 291 --> loss:0.5360, acc:79.86%, val_loss:0.8608, val_acc:70.63%\n",
      " Epoch 292: iteration 106/107\n",
      "Epoch 292 --> loss:0.5101, acc:81.05%, val_loss:0.9447, val_acc:69.93%\n",
      " Epoch 293: iteration 106/107\n",
      "Epoch 293 --> loss:0.5126, acc:81.14%, val_loss:0.9798, val_acc:72.73%\n",
      " Epoch 294: iteration 106/107\n",
      "Epoch 294 --> loss:0.4904, acc:81.52%, val_loss:0.9309, val_acc:72.03%\n",
      " Epoch 295: iteration 106/107\n",
      "Epoch 295 --> loss:0.5327, acc:79.37%, val_loss:0.8189, val_acc:77.62%\n",
      " Epoch 296: iteration 106/107\n",
      "Epoch 296 --> loss:0.5311, acc:79.25%, val_loss:1.0219, val_acc:67.13%\n",
      " Epoch 297: iteration 106/107\n",
      "Epoch 297 --> loss:0.5097, acc:80.50%, val_loss:0.8297, val_acc:74.13%\n",
      " Epoch 298: iteration 106/107\n",
      "Epoch 298 --> loss:0.5072, acc:80.76%, val_loss:1.0053, val_acc:65.73%\n",
      " Epoch 299: iteration 106/107\n",
      "Epoch 299 --> loss:0.5362, acc:79.86%, val_loss:0.9828, val_acc:69.23%\n",
      " Epoch 300: iteration 106/107\n",
      "Epoch 300 --> loss:0.5324, acc:79.10%, val_loss:0.9144, val_acc:69.93%\n",
      " Epoch 301: iteration 106/107\n",
      "Epoch 301 --> loss:0.5266, acc:80.50%, val_loss:0.8488, val_acc:74.83%\n",
      " Epoch 302: iteration 106/107\n",
      "Epoch 302 --> loss:0.5351, acc:80.01%, val_loss:0.9150, val_acc:74.13%\n",
      " Epoch 303: iteration 106/107\n",
      "Epoch 303 --> loss:0.5072, acc:80.94%, val_loss:0.9508, val_acc:71.33%\n",
      " Epoch 304: iteration 106/107\n",
      "Epoch 304 --> loss:0.4876, acc:80.88%, val_loss:1.0668, val_acc:65.03%\n",
      " Epoch 305: iteration 106/107\n",
      "Epoch 305 --> loss:0.5116, acc:80.27%, val_loss:0.9038, val_acc:72.03%\n",
      " Epoch 306: iteration 106/107\n",
      "Epoch 306 --> loss:0.5064, acc:80.24%, val_loss:0.9959, val_acc:67.13%\n",
      " Epoch 307: iteration 106/107\n",
      "Epoch 307 --> loss:0.5010, acc:81.49%, val_loss:1.0374, val_acc:65.03%\n",
      " Epoch 308: iteration 106/107\n",
      "Epoch 308 --> loss:0.5239, acc:79.77%, val_loss:0.9000, val_acc:72.73%\n",
      " Epoch 309: iteration 106/107\n",
      "Epoch 309 --> loss:0.5103, acc:80.38%, val_loss:0.8320, val_acc:74.13%\n",
      " Epoch 310: iteration 106/107\n",
      "Epoch 310 --> loss:0.4668, acc:82.51%, val_loss:1.0510, val_acc:65.03%\n",
      " Epoch 311: iteration 106/107\n",
      "Epoch 311 --> loss:0.4779, acc:81.55%, val_loss:0.8653, val_acc:72.73%\n",
      " Epoch 312: iteration 106/107\n",
      "Epoch 312 --> loss:0.4989, acc:81.55%, val_loss:0.9085, val_acc:72.03%\n",
      " Epoch 313: iteration 106/107\n",
      "Epoch 313 --> loss:0.4915, acc:81.14%, val_loss:1.2719, val_acc:62.24%\n",
      " Epoch 314: iteration 106/107\n",
      "Epoch 314 --> loss:0.4980, acc:81.17%, val_loss:0.9930, val_acc:72.73%\n",
      " Epoch 315: iteration 106/107\n",
      "Epoch 315 --> loss:0.4911, acc:80.27%, val_loss:0.9054, val_acc:70.63%\n",
      " Epoch 316: iteration 106/107\n",
      "Epoch 316 --> loss:0.4884, acc:81.84%, val_loss:0.9314, val_acc:69.93%\n",
      " Epoch 317: iteration 106/107\n",
      "Epoch 317 --> loss:0.4791, acc:81.40%, val_loss:0.9647, val_acc:67.13%\n",
      " Epoch 318: iteration 106/107\n",
      "Epoch 318 --> loss:0.4924, acc:81.08%, val_loss:0.9725, val_acc:72.73%\n",
      " Epoch 319: iteration 106/107\n",
      "Epoch 319 --> loss:0.5077, acc:80.33%, val_loss:1.0778, val_acc:62.94%\n",
      " Epoch 320: iteration 106/107\n",
      "Epoch 320 --> loss:0.4808, acc:82.04%, val_loss:1.1204, val_acc:61.54%\n",
      " Epoch 321: iteration 106/107\n",
      "Epoch 321 --> loss:0.4711, acc:82.45%, val_loss:0.8896, val_acc:74.13%\n",
      " Epoch 322: iteration 106/107\n",
      "Epoch 322 --> loss:0.4855, acc:81.52%, val_loss:1.0430, val_acc:67.83%\n",
      " Epoch 323: iteration 106/107\n",
      "Epoch 323 --> loss:0.4843, acc:82.01%, val_loss:1.0123, val_acc:72.03%\n",
      " Epoch 324: iteration 106/107\n",
      "Epoch 324 --> loss:0.4823, acc:81.63%, val_loss:1.0078, val_acc:71.33%\n",
      " Epoch 325: iteration 106/107\n",
      "Epoch 325 --> loss:0.4687, acc:82.01%, val_loss:1.2308, val_acc:61.54%\n",
      " Epoch 326: iteration 106/107\n",
      "Epoch 326 --> loss:0.5048, acc:81.17%, val_loss:1.0147, val_acc:65.73%\n",
      " Epoch 327: iteration 106/107\n",
      "Epoch 327 --> loss:0.4835, acc:81.63%, val_loss:0.8993, val_acc:74.13%\n",
      " Epoch 328: iteration 106/107\n",
      "Epoch 328 --> loss:0.4972, acc:80.62%, val_loss:0.9993, val_acc:67.13%\n",
      " Epoch 329: iteration 106/107\n",
      "Epoch 329 --> loss:0.4871, acc:81.72%, val_loss:1.0540, val_acc:67.83%\n",
      " Epoch 330: iteration 106/107\n",
      "Epoch 330 --> loss:0.4643, acc:81.63%, val_loss:1.0650, val_acc:63.64%\n",
      " Epoch 331: iteration 106/107\n",
      "Epoch 331 --> loss:0.4864, acc:81.40%, val_loss:1.0704, val_acc:65.73%\n",
      " Epoch 332: iteration 106/107\n",
      "Epoch 332 --> loss:0.4892, acc:80.94%, val_loss:0.9967, val_acc:69.93%\n",
      " Epoch 333: iteration 106/107\n",
      "Epoch 333 --> loss:0.4838, acc:81.98%, val_loss:1.0561, val_acc:63.64%\n",
      " Epoch 334: iteration 106/107\n",
      "Epoch 334 --> loss:0.4811, acc:82.21%, val_loss:0.9997, val_acc:67.13%\n",
      " Epoch 335: iteration 106/107\n",
      "Epoch 335 --> loss:0.4952, acc:81.63%, val_loss:0.9527, val_acc:71.33%\n",
      " Epoch 336: iteration 106/107\n",
      "Epoch 336 --> loss:0.4854, acc:81.60%, val_loss:0.9822, val_acc:69.23%\n",
      " Epoch 337: iteration 106/107\n",
      "Epoch 337 --> loss:0.4691, acc:82.33%, val_loss:1.0402, val_acc:63.64%\n",
      " Epoch 338: iteration 106/107\n",
      "Epoch 338 --> loss:0.4635, acc:82.88%, val_loss:0.8773, val_acc:71.33%\n",
      " Epoch 339: iteration 106/107\n",
      "Epoch 339 --> loss:0.4753, acc:81.78%, val_loss:1.0316, val_acc:65.03%\n",
      " Epoch 340: iteration 106/107\n",
      "Epoch 340 --> loss:0.4920, acc:82.10%, val_loss:1.0862, val_acc:67.83%\n",
      " Epoch 341: iteration 106/107\n",
      "Epoch 341 --> loss:0.4667, acc:82.77%, val_loss:1.0517, val_acc:66.43%\n",
      " Epoch 342: iteration 106/107\n",
      "Epoch 342 --> loss:0.4662, acc:82.56%, val_loss:1.0025, val_acc:69.23%\n",
      " Epoch 343: iteration 106/107\n",
      "Epoch 343 --> loss:0.4625, acc:82.24%, val_loss:0.9236, val_acc:75.52%\n",
      " Epoch 344: iteration 106/107\n",
      "Epoch 344 --> loss:0.4904, acc:81.14%, val_loss:1.1094, val_acc:64.34%\n",
      " Epoch 345: iteration 106/107\n",
      "Epoch 345 --> loss:0.4858, acc:82.42%, val_loss:1.0579, val_acc:65.73%\n",
      " Epoch 346: iteration 106/107\n",
      "Epoch 346 --> loss:0.4822, acc:82.80%, val_loss:1.1017, val_acc:63.64%\n",
      " Epoch 347: iteration 106/107\n",
      "Epoch 347 --> loss:0.4597, acc:82.68%, val_loss:1.2205, val_acc:60.14%\n",
      " Epoch 348: iteration 106/107\n",
      "Epoch 348 --> loss:0.4684, acc:82.13%, val_loss:0.8729, val_acc:72.03%\n",
      " Epoch 349: iteration 106/107\n",
      "Epoch 349 --> loss:0.4863, acc:82.27%, val_loss:0.9355, val_acc:76.22%\n",
      " Epoch 350: iteration 106/107\n",
      "Epoch 350 --> loss:0.4756, acc:82.27%, val_loss:1.0568, val_acc:69.93%\n",
      " Epoch 351: iteration 106/107\n",
      "Epoch 351 --> loss:0.4485, acc:82.97%, val_loss:1.0692, val_acc:65.73%\n",
      " Epoch 352: iteration 106/107\n",
      "Epoch 352 --> loss:0.4577, acc:83.29%, val_loss:0.9081, val_acc:72.03%\n",
      " Epoch 353: iteration 106/107\n",
      "Epoch 353 --> loss:0.4611, acc:82.74%, val_loss:1.0626, val_acc:62.94%\n",
      " Epoch 354: iteration 106/107\n",
      "Epoch 354 --> loss:0.4795, acc:81.98%, val_loss:0.9821, val_acc:71.33%\n",
      " Epoch 355: iteration 106/107\n",
      "Epoch 355 --> loss:0.4566, acc:83.58%, val_loss:0.9763, val_acc:66.43%\n",
      " Epoch 356: iteration 106/107\n",
      "Epoch 356 --> loss:0.4828, acc:82.01%, val_loss:0.9643, val_acc:67.83%\n",
      " Epoch 357: iteration 106/107\n",
      "Epoch 357 --> loss:0.4555, acc:82.88%, val_loss:1.0188, val_acc:69.23%\n",
      " Epoch 358: iteration 106/107\n",
      "Epoch 358 --> loss:0.4681, acc:82.94%, val_loss:0.8928, val_acc:73.43%\n",
      " Epoch 359: iteration 106/107\n",
      "Epoch 359 --> loss:0.4550, acc:82.80%, val_loss:1.0220, val_acc:67.83%\n",
      " Epoch 360: iteration 106/107\n",
      "Epoch 360 --> loss:0.4698, acc:82.33%, val_loss:0.9662, val_acc:69.23%\n",
      " Epoch 361: iteration 106/107\n",
      "Epoch 361 --> loss:0.4786, acc:81.84%, val_loss:1.0772, val_acc:63.64%\n",
      " Epoch 362: iteration 106/107\n",
      "Epoch 362 --> loss:0.4794, acc:82.68%, val_loss:1.0553, val_acc:65.73%\n",
      " Epoch 363: iteration 106/107\n",
      "Epoch 363 --> loss:0.4595, acc:82.97%, val_loss:1.0118, val_acc:64.34%\n",
      " Epoch 364: iteration 106/107\n",
      "Epoch 364 --> loss:0.4640, acc:83.64%, val_loss:0.8931, val_acc:74.83%\n",
      " Epoch 365: iteration 106/107\n",
      "Epoch 365 --> loss:0.4510, acc:82.45%, val_loss:1.1692, val_acc:60.84%\n",
      " Epoch 366: iteration 106/107\n",
      "Epoch 366 --> loss:0.4692, acc:82.19%, val_loss:1.3968, val_acc:55.94%\n",
      " Epoch 367: iteration 106/107\n",
      "Epoch 367 --> loss:0.4773, acc:81.55%, val_loss:1.3846, val_acc:52.45%\n",
      " Epoch 368: iteration 106/107\n",
      "Epoch 368 --> loss:0.4614, acc:82.71%, val_loss:1.0738, val_acc:64.34%\n",
      " Epoch 369: iteration 106/107\n",
      "Epoch 369 --> loss:0.4527, acc:83.44%, val_loss:0.8825, val_acc:72.03%\n",
      " Epoch 370: iteration 106/107\n",
      "Epoch 370 --> loss:0.4603, acc:83.03%, val_loss:1.0629, val_acc:66.43%\n",
      " Epoch 371: iteration 106/107\n",
      "Epoch 371 --> loss:0.4887, acc:81.49%, val_loss:0.9280, val_acc:72.73%\n",
      " Epoch 372: iteration 106/107\n",
      "Epoch 372 --> loss:0.4615, acc:82.10%, val_loss:1.2432, val_acc:59.44%\n",
      " Epoch 373: iteration 106/107\n",
      "Epoch 373 --> loss:0.4603, acc:82.21%, val_loss:0.9528, val_acc:72.73%\n",
      " Epoch 374: iteration 106/107\n",
      "Epoch 374 --> loss:0.4515, acc:83.20%, val_loss:1.1414, val_acc:62.24%\n",
      " Epoch 375: iteration 106/107\n",
      "Epoch 375 --> loss:0.4536, acc:83.26%, val_loss:1.0491, val_acc:69.23%\n",
      " Epoch 376: iteration 106/107\n",
      "Epoch 376 --> loss:0.4496, acc:83.35%, val_loss:0.9737, val_acc:69.93%\n",
      " Epoch 377: iteration 106/107\n",
      "Epoch 377 --> loss:0.4551, acc:83.03%, val_loss:1.0162, val_acc:65.73%\n",
      " Epoch 378: iteration 106/107\n",
      "Epoch 378 --> loss:0.4599, acc:83.03%, val_loss:1.0468, val_acc:68.53%\n",
      " Epoch 379: iteration 106/107\n",
      "Epoch 379 --> loss:0.4389, acc:83.78%, val_loss:0.8750, val_acc:78.32%\n",
      " Epoch 380: iteration 106/107\n",
      "Epoch 380 --> loss:0.4411, acc:83.55%, val_loss:1.0000, val_acc:71.33%\n",
      " Epoch 381: iteration 106/107\n",
      "Epoch 381 --> loss:0.4392, acc:82.80%, val_loss:1.2094, val_acc:57.34%\n",
      " Epoch 382: iteration 106/107\n",
      "Epoch 382 --> loss:0.4452, acc:83.26%, val_loss:1.1493, val_acc:62.94%\n",
      " Epoch 383: iteration 106/107\n",
      "Epoch 383 --> loss:0.4758, acc:82.88%, val_loss:0.9751, val_acc:71.33%\n",
      " Epoch 384: iteration 106/107\n",
      "Epoch 384 --> loss:0.4221, acc:84.54%, val_loss:0.9257, val_acc:67.83%\n",
      " Epoch 385: iteration 106/107\n",
      "Epoch 385 --> loss:0.4420, acc:83.38%, val_loss:1.2786, val_acc:59.44%\n",
      " Epoch 386: iteration 106/107\n",
      "Epoch 386 --> loss:0.4613, acc:82.71%, val_loss:1.0925, val_acc:64.34%\n",
      " Epoch 387: iteration 106/107\n",
      "Epoch 387 --> loss:0.4423, acc:82.97%, val_loss:1.1402, val_acc:62.94%\n",
      " Epoch 388: iteration 106/107\n",
      "Epoch 388 --> loss:0.4714, acc:82.77%, val_loss:0.9187, val_acc:69.93%\n",
      " Epoch 389: iteration 106/107\n",
      "Epoch 389 --> loss:0.4612, acc:82.80%, val_loss:1.0945, val_acc:60.14%\n",
      " Epoch 390: iteration 106/107\n",
      "Epoch 390 --> loss:0.4353, acc:83.38%, val_loss:1.0687, val_acc:67.13%\n",
      " Epoch 391: iteration 106/107\n",
      "Epoch 391 --> loss:0.4574, acc:82.82%, val_loss:1.0873, val_acc:64.34%\n",
      " Epoch 392: iteration 106/107\n",
      "Epoch 392 --> loss:0.4543, acc:82.68%, val_loss:1.0098, val_acc:67.13%\n",
      " Epoch 393: iteration 106/107\n",
      "Epoch 393 --> loss:0.4322, acc:83.87%, val_loss:1.1203, val_acc:64.34%\n",
      " Epoch 394: iteration 106/107\n",
      "Epoch 394 --> loss:0.4539, acc:82.04%, val_loss:0.9654, val_acc:69.93%\n",
      " Epoch 395: iteration 106/107\n",
      "Epoch 395 --> loss:0.4470, acc:83.61%, val_loss:0.8997, val_acc:69.93%\n",
      " Epoch 396: iteration 106/107\n",
      "Epoch 396 --> loss:0.4524, acc:83.49%, val_loss:1.0401, val_acc:65.03%\n",
      " Epoch 397: iteration 106/107\n",
      "Epoch 397 --> loss:0.4627, acc:82.85%, val_loss:1.1847, val_acc:61.54%\n",
      " Epoch 398: iteration 106/107\n",
      "Epoch 398 --> loss:0.4604, acc:82.91%, val_loss:1.0507, val_acc:67.13%\n",
      " Epoch 399: iteration 106/107\n",
      "Epoch 399 --> loss:0.3963, acc:85.12%, val_loss:0.9283, val_acc:68.53%\n",
      " Epoch 400: iteration 106/107\n",
      "Epoch 400 --> loss:0.4330, acc:83.87%, val_loss:1.4389, val_acc:58.74%\n",
      " Epoch 401: iteration 106/107\n",
      "Epoch 401 --> loss:0.4271, acc:83.67%, val_loss:0.9620, val_acc:67.83%\n",
      " Epoch 402: iteration 106/107\n",
      "Epoch 402 --> loss:0.4641, acc:82.74%, val_loss:1.3150, val_acc:58.04%\n",
      " Epoch 403: iteration 106/107\n",
      "Epoch 403 --> loss:0.4579, acc:83.35%, val_loss:0.9718, val_acc:68.53%\n",
      " Epoch 404: iteration 106/107\n",
      "Epoch 404 --> loss:0.4363, acc:84.28%, val_loss:0.9312, val_acc:71.33%\n",
      " Epoch 405: iteration 106/107\n",
      "Epoch 405 --> loss:0.4629, acc:82.74%, val_loss:0.9156, val_acc:69.93%\n",
      " Epoch 406: iteration 106/107\n",
      "Epoch 406 --> loss:0.4729, acc:82.27%, val_loss:1.1854, val_acc:62.24%\n",
      " Epoch 407: iteration 106/107\n",
      "Epoch 407 --> loss:0.4489, acc:83.52%, val_loss:1.2404, val_acc:58.04%\n",
      " Epoch 408: iteration 106/107\n",
      "Epoch 408 --> loss:0.4249, acc:84.98%, val_loss:1.1146, val_acc:62.24%\n",
      " Epoch 409: iteration 106/107\n",
      "Epoch 409 --> loss:0.4504, acc:83.06%, val_loss:1.0536, val_acc:63.64%\n",
      " Epoch 410: iteration 106/107\n",
      "Epoch 410 --> loss:0.4174, acc:85.27%, val_loss:1.2372, val_acc:60.84%\n",
      " Epoch 411: iteration 106/107\n",
      "Epoch 411 --> loss:0.4613, acc:82.56%, val_loss:1.0418, val_acc:66.43%\n",
      " Epoch 412: iteration 106/107\n",
      "Epoch 412 --> loss:0.4321, acc:84.22%, val_loss:1.0119, val_acc:66.43%\n",
      " Epoch 413: iteration 106/107\n",
      "Epoch 413 --> loss:0.4398, acc:83.38%, val_loss:1.0524, val_acc:68.53%\n",
      " Epoch 414: iteration 106/107\n",
      "Epoch 414 --> loss:0.4744, acc:83.14%, val_loss:1.0116, val_acc:69.23%\n",
      " Epoch 415: iteration 106/107\n",
      "Epoch 415 --> loss:0.3991, acc:85.09%, val_loss:0.9862, val_acc:68.53%\n",
      " Epoch 416: iteration 106/107\n",
      "Epoch 416 --> loss:0.4648, acc:82.94%, val_loss:0.9712, val_acc:65.73%\n",
      " Epoch 417: iteration 106/107\n",
      "Epoch 417 --> loss:0.4315, acc:84.42%, val_loss:1.0362, val_acc:63.64%\n",
      " Epoch 418: iteration 106/107\n",
      "Epoch 418 --> loss:0.4234, acc:84.13%, val_loss:0.9069, val_acc:69.93%\n",
      " Epoch 419: iteration 106/107\n",
      "Epoch 419 --> loss:0.4151, acc:84.95%, val_loss:1.0165, val_acc:62.24%\n",
      " Epoch 420: iteration 106/107\n",
      "Epoch 420 --> loss:0.4152, acc:83.96%, val_loss:1.1510, val_acc:67.83%\n",
      " Epoch 421: iteration 106/107\n",
      "Epoch 421 --> loss:0.4335, acc:83.44%, val_loss:1.0162, val_acc:66.43%\n",
      " Epoch 422: iteration 106/107\n",
      "Epoch 422 --> loss:0.4278, acc:83.78%, val_loss:1.0653, val_acc:65.03%\n",
      " Epoch 423: iteration 106/107\n",
      "Epoch 423 --> loss:0.4238, acc:84.02%, val_loss:1.0620, val_acc:65.03%\n",
      " Epoch 424: iteration 106/107\n",
      "Epoch 424 --> loss:0.4262, acc:83.49%, val_loss:1.1873, val_acc:60.84%\n",
      " Epoch 425: iteration 106/107\n",
      "Epoch 425 --> loss:0.4370, acc:83.61%, val_loss:0.9858, val_acc:67.83%\n",
      " Epoch 426: iteration 106/107\n",
      "Epoch 426 --> loss:0.4384, acc:83.67%, val_loss:0.9617, val_acc:70.63%\n",
      " Epoch 427: iteration 106/107\n",
      "Epoch 427 --> loss:0.4211, acc:84.63%, val_loss:1.0344, val_acc:66.43%\n",
      " Epoch 428: iteration 106/107\n",
      "Epoch 428 --> loss:0.4140, acc:84.60%, val_loss:0.8903, val_acc:69.93%\n",
      " Epoch 429: iteration 106/107\n",
      "Epoch 429 --> loss:0.4148, acc:85.67%, val_loss:0.8846, val_acc:69.23%\n",
      " Epoch 430: iteration 106/107\n",
      "Epoch 430 --> loss:0.4184, acc:84.86%, val_loss:0.8774, val_acc:72.03%\n",
      " Epoch 431: iteration 106/107\n",
      "Epoch 431 --> loss:0.4249, acc:83.96%, val_loss:0.8663, val_acc:74.13%\n",
      " Epoch 432: iteration 106/107\n",
      "Epoch 432 --> loss:0.4041, acc:84.83%, val_loss:1.0666, val_acc:68.53%\n",
      " Epoch 433: iteration 106/107\n",
      "Epoch 433 --> loss:0.4203, acc:83.14%, val_loss:1.2127, val_acc:61.54%\n",
      " Epoch 434: iteration 106/107\n",
      "Epoch 434 --> loss:0.4347, acc:83.12%, val_loss:1.1424, val_acc:62.94%\n",
      " Epoch 435: iteration 106/107\n",
      "Epoch 435 --> loss:0.4193, acc:84.92%, val_loss:0.9337, val_acc:66.43%\n",
      " Epoch 436: iteration 106/107\n",
      "Epoch 436 --> loss:0.4676, acc:81.95%, val_loss:0.9959, val_acc:69.23%\n",
      " Epoch 437: iteration 106/107\n",
      "Epoch 437 --> loss:0.4238, acc:83.99%, val_loss:1.1468, val_acc:62.94%\n",
      " Epoch 438: iteration 106/107\n",
      "Epoch 438 --> loss:0.4386, acc:83.70%, val_loss:0.9480, val_acc:70.63%\n",
      " Epoch 439: iteration 106/107\n",
      "Epoch 439 --> loss:0.4210, acc:84.42%, val_loss:1.1250, val_acc:59.44%\n",
      " Epoch 440: iteration 106/107\n",
      "Epoch 440 --> loss:0.4183, acc:84.19%, val_loss:1.0034, val_acc:66.43%\n",
      " Epoch 441: iteration 106/107\n",
      "Epoch 441 --> loss:0.4318, acc:84.19%, val_loss:1.0213, val_acc:67.13%\n",
      " Epoch 442: iteration 106/107\n",
      "Epoch 442 --> loss:0.4263, acc:83.70%, val_loss:0.9025, val_acc:76.92%\n",
      " Epoch 443: iteration 106/107\n",
      "Epoch 443 --> loss:0.4339, acc:83.46%, val_loss:1.0668, val_acc:67.13%\n",
      " Epoch 444: iteration 106/107\n",
      "Epoch 444 --> loss:0.3911, acc:85.24%, val_loss:1.2955, val_acc:61.54%\n",
      " Epoch 445: iteration 106/107\n",
      "Epoch 445 --> loss:0.4372, acc:84.25%, val_loss:1.0801, val_acc:62.24%\n",
      " Epoch 446: iteration 106/107\n",
      "Epoch 446 --> loss:0.4233, acc:83.99%, val_loss:1.1227, val_acc:60.14%\n",
      " Epoch 447: iteration 106/107\n",
      "Epoch 447 --> loss:0.4154, acc:84.66%, val_loss:1.1493, val_acc:63.64%\n",
      " Epoch 448: iteration 106/107\n",
      "Epoch 448 --> loss:0.3909, acc:85.64%, val_loss:1.0581, val_acc:65.03%\n",
      " Epoch 449: iteration 106/107\n",
      "Epoch 449 --> loss:0.4209, acc:84.19%, val_loss:1.1202, val_acc:65.03%\n",
      " Epoch 450: iteration 106/107\n",
      "Epoch 450 --> loss:0.4140, acc:84.86%, val_loss:1.0936, val_acc:64.34%\n",
      " Epoch 451: iteration 106/107\n",
      "Epoch 451 --> loss:0.4282, acc:84.37%, val_loss:1.0338, val_acc:65.03%\n",
      " Epoch 452: iteration 106/107\n",
      "Epoch 452 --> loss:0.4146, acc:84.66%, val_loss:0.9550, val_acc:65.73%\n",
      " Epoch 453: iteration 106/107\n",
      "Epoch 453 --> loss:0.3986, acc:85.56%, val_loss:1.1389, val_acc:61.54%\n",
      " Epoch 454: iteration 106/107\n",
      "Epoch 454 --> loss:0.3719, acc:86.20%, val_loss:0.9731, val_acc:69.93%\n",
      " Epoch 455: iteration 106/107\n",
      "Epoch 455 --> loss:0.3968, acc:85.03%, val_loss:1.0880, val_acc:62.94%\n",
      " Epoch 456: iteration 106/107\n",
      "Epoch 456 --> loss:0.4452, acc:83.35%, val_loss:1.2172, val_acc:62.24%\n",
      " Epoch 457: iteration 106/107\n",
      "Epoch 457 --> loss:0.4017, acc:84.54%, val_loss:0.9930, val_acc:67.13%\n",
      " Epoch 458: iteration 106/107\n",
      "Epoch 458 --> loss:0.4219, acc:83.87%, val_loss:0.9336, val_acc:69.23%\n",
      " Epoch 459: iteration 106/107\n",
      "Epoch 459 --> loss:0.4096, acc:84.77%, val_loss:0.9032, val_acc:69.93%\n",
      " Epoch 460: iteration 106/107\n",
      "Epoch 460 --> loss:0.4055, acc:85.12%, val_loss:0.9351, val_acc:69.23%\n",
      " Epoch 461: iteration 106/107\n",
      "Epoch 461 --> loss:0.4174, acc:84.80%, val_loss:0.9811, val_acc:68.53%\n",
      " Epoch 462: iteration 106/107\n",
      "Epoch 462 --> loss:0.3921, acc:85.96%, val_loss:0.9957, val_acc:67.83%\n",
      " Epoch 463: iteration 106/107\n",
      "Epoch 463 --> loss:0.4402, acc:83.58%, val_loss:1.1249, val_acc:65.03%\n",
      " Epoch 464: iteration 106/107\n",
      "Epoch 464 --> loss:0.4055, acc:85.35%, val_loss:1.1338, val_acc:63.64%\n",
      " Epoch 465: iteration 106/107\n",
      "Epoch 465 --> loss:0.4000, acc:85.41%, val_loss:1.0306, val_acc:65.73%\n",
      " Epoch 466: iteration 106/107\n",
      "Epoch 466 --> loss:0.4108, acc:84.54%, val_loss:1.0488, val_acc:63.64%\n",
      " Epoch 467: iteration 106/107\n",
      "Epoch 467 --> loss:0.4056, acc:85.12%, val_loss:1.0997, val_acc:62.24%\n",
      " Epoch 468: iteration 106/107\n",
      "Epoch 468 --> loss:0.4232, acc:83.70%, val_loss:1.0969, val_acc:67.83%\n",
      " Epoch 469: iteration 106/107\n",
      "Epoch 469 --> loss:0.4187, acc:84.89%, val_loss:0.8957, val_acc:68.53%\n",
      " Epoch 470: iteration 106/107\n",
      "Epoch 470 --> loss:0.3836, acc:85.73%, val_loss:1.1167, val_acc:67.83%\n",
      " Epoch 471: iteration 106/107\n",
      "Epoch 471 --> loss:0.4461, acc:83.26%, val_loss:0.8871, val_acc:69.23%\n",
      " Epoch 472: iteration 106/107\n",
      "Epoch 472 --> loss:0.3911, acc:85.59%, val_loss:1.1358, val_acc:61.54%\n",
      " Epoch 473: iteration 106/107\n",
      "Epoch 473 --> loss:0.4058, acc:84.68%, val_loss:0.9815, val_acc:68.53%\n",
      " Epoch 474: iteration 106/107\n",
      "Epoch 474 --> loss:0.4178, acc:84.86%, val_loss:1.0586, val_acc:67.83%\n",
      " Epoch 475: iteration 106/107\n",
      "Epoch 475 --> loss:0.3835, acc:85.35%, val_loss:0.9913, val_acc:69.93%\n",
      " Epoch 476: iteration 106/107\n",
      "Epoch 476 --> loss:0.4038, acc:84.77%, val_loss:0.8353, val_acc:67.83%\n",
      " Epoch 477: iteration 106/107\n",
      "Epoch 477 --> loss:0.3991, acc:84.98%, val_loss:1.0485, val_acc:62.94%\n",
      " Epoch 478: iteration 106/107\n",
      "Epoch 478 --> loss:0.4055, acc:85.00%, val_loss:1.0328, val_acc:65.03%\n",
      " Epoch 479: iteration 106/107\n",
      "Epoch 479 --> loss:0.4166, acc:84.98%, val_loss:1.1782, val_acc:60.14%\n",
      " Epoch 480: iteration 106/107\n",
      "Epoch 480 --> loss:0.3896, acc:86.17%, val_loss:1.0351, val_acc:65.73%\n",
      " Epoch 481: iteration 106/107\n",
      "Epoch 481 --> loss:0.3939, acc:86.08%, val_loss:1.1764, val_acc:62.94%\n",
      " Epoch 482: iteration 106/107\n",
      "Epoch 482 --> loss:0.4250, acc:84.37%, val_loss:0.9445, val_acc:69.93%\n",
      " Epoch 483: iteration 106/107\n",
      "Epoch 483 --> loss:0.3920, acc:86.11%, val_loss:0.9030, val_acc:69.23%\n",
      " Epoch 484: iteration 106/107\n",
      "Epoch 484 --> loss:0.4189, acc:84.83%, val_loss:1.0866, val_acc:63.64%\n",
      " Epoch 485: iteration 106/107\n",
      "Epoch 485 --> loss:0.3738, acc:86.57%, val_loss:1.0676, val_acc:62.94%\n",
      " Epoch 486: iteration 106/107\n",
      "Epoch 486 --> loss:0.3932, acc:85.76%, val_loss:1.1008, val_acc:62.94%\n",
      " Epoch 487: iteration 106/107\n",
      "Epoch 487 --> loss:0.4272, acc:84.63%, val_loss:1.1636, val_acc:65.73%\n",
      " Epoch 488: iteration 106/107\n",
      "Epoch 488 --> loss:0.4254, acc:83.46%, val_loss:0.8938, val_acc:69.93%\n",
      " Epoch 489: iteration 106/107\n",
      "Epoch 489 --> loss:0.4047, acc:84.37%, val_loss:1.2033, val_acc:58.04%\n",
      " Epoch 490: iteration 106/107\n",
      "Epoch 490 --> loss:0.4141, acc:84.83%, val_loss:1.0351, val_acc:62.24%\n",
      " Epoch 491: iteration 106/107\n",
      "Epoch 491 --> loss:0.4013, acc:84.77%, val_loss:1.2353, val_acc:61.54%\n",
      " Epoch 492: iteration 106/107\n",
      "Epoch 492 --> loss:0.4007, acc:84.80%, val_loss:1.3823, val_acc:54.55%\n",
      " Epoch 493: iteration 106/107\n",
      "Epoch 493 --> loss:0.4172, acc:85.06%, val_loss:0.9388, val_acc:69.23%\n",
      " Epoch 494: iteration 106/107\n",
      "Epoch 494 --> loss:0.3768, acc:85.96%, val_loss:0.8312, val_acc:73.43%\n",
      " Epoch 495: iteration 106/107\n",
      "Epoch 495 --> loss:0.4028, acc:84.39%, val_loss:1.1592, val_acc:63.64%\n",
      " Epoch 496: iteration 106/107\n",
      "Epoch 496 --> loss:0.4124, acc:84.02%, val_loss:0.9545, val_acc:74.13%\n",
      " Epoch 497: iteration 106/107\n",
      "Epoch 497 --> loss:0.4247, acc:84.36%, val_loss:1.3041, val_acc:58.04%\n",
      " Epoch 498: iteration 106/107\n",
      "Epoch 498 --> loss:0.4014, acc:85.18%, val_loss:1.0587, val_acc:62.94%\n",
      " Epoch 499: iteration 106/107\n",
      "Epoch 499 --> loss:0.4059, acc:85.32%, val_loss:1.1315, val_acc:62.94%\n"
     ]
    }
   ],
   "source": [
    "EPOCHS=500\n",
    "DATASET_SIZE = X_train.shape[0]\n",
    "BATCH_SIZE = 32\n",
    "device = 'cuda' if torch.cuda.is_available() else 'cpu'\n",
    "print('Selected device is {}'.format(device))\n",
    "model = HybridModel(num_emotions=len(EMOTIONS)).to(device)\n",
    "print('Number of trainable params: ',sum(p.numel() for p in model.parameters()) )\n",
    "OPTIMIZER = torch.optim.SGD(model.parameters(),lr=0.01, weight_decay=1e-3, momentum=0.8)\n",
    "\n",
    "train_step = make_train_step(model, loss_fnc, optimizer=OPTIMIZER)\n",
    "validate = make_validate_fnc(model,loss_fnc)\n",
    "losses=[]\n",
    "val_losses = []\n",
    "acc_ep = []\n",
    "vala = []\n",
    "for epoch in range(EPOCHS):\n",
    "    # schuffle data\n",
    "    ind = np.random.permutation(DATASET_SIZE)\n",
    "    X_train = X_train[ind,:,:,:,:]\n",
    "    Y_train = Y_train[ind]\n",
    "    epoch_acc = 0\n",
    "    epoch_loss = 0\n",
    "    iters = int(DATASET_SIZE / BATCH_SIZE)\n",
    "    for i in range(iters):\n",
    "        batch_start = i * BATCH_SIZE\n",
    "        batch_end = min(batch_start + BATCH_SIZE, DATASET_SIZE)\n",
    "        actual_batch_size = batch_end-batch_start\n",
    "        X = X_train[batch_start:batch_end,:,:,:,:]\n",
    "        Y = Y_train[batch_start:batch_end]\n",
    "        X_tensor = torch.tensor(X,device=device).float()\n",
    "        Y_tensor = torch.tensor(Y, dtype=torch.long,device=device)\n",
    "        loss, acc = train_step(X_tensor,Y_tensor)\n",
    "        epoch_acc += acc*actual_batch_size/DATASET_SIZE\n",
    "        epoch_loss += loss*actual_batch_size/DATASET_SIZE\n",
    "        print(f\"\\r Epoch {epoch}: iteration {i}/{iters}\",end='')\n",
    "    X_val_tensor = torch.tensor(X_val,device=device).float()\n",
    "    Y_val_tensor = torch.tensor(Y_val,dtype=torch.long,device=device)\n",
    "    val_loss, val_acc, _ = validate(X_val_tensor,Y_val_tensor)\n",
    "    losses.append(epoch_loss)\n",
    "    val_losses.append(val_loss)\n",
    "    acc_ep.append(epoch_acc)\n",
    "    vala.append(val_acc)\n",
    "    print('')\n",
    "    print(f\"Epoch {epoch} --> loss:{epoch_loss:.4f}, acc:{epoch_acc:.2f}%, val_loss:{val_loss:.4f}, val_acc:{val_acc:.2f}%\")\n",
    "    "
   ]
  },
  {
   "cell_type": "markdown",
   "metadata": {
    "id": "rN4IKmEkVNb7"
   },
   "source": [
    "# Save model"
   ]
  },
  {
   "cell_type": "code",
   "execution_count": 22,
   "metadata": {
    "id": "tn9Vga2ZVNb7"
   },
   "outputs": [
    {
     "name": "stdout",
     "output_type": "stream",
     "text": [
      "Model is saved to E:/Bhuvan/MODELS/cnn_lstm_model.pt\n"
     ]
    }
   ],
   "source": [
    "SAVE_PATH = os.path.join('E:/Bhuvan/MODELS/')\n",
    "os.makedirs('models',exist_ok=True)\n",
    "torch.save(model.state_dict(),os.path.join(SAVE_PATH,'cnn_lstm_model.pt'))\n",
    "print('Model is saved to {}'.format(os.path.join(SAVE_PATH,'cnn_lstm_model.pt')))"
   ]
  },
  {
   "cell_type": "markdown",
   "metadata": {
    "id": "qApL3Ps0VNb8"
   },
   "source": [
    "# Load model"
   ]
  },
  {
   "cell_type": "code",
   "execution_count": 23,
   "metadata": {
    "id": "wk7AyMYeVNb8"
   },
   "outputs": [
    {
     "name": "stdout",
     "output_type": "stream",
     "text": [
      "Model is loaded from E:/Bhuvan/MODELS/cnn_lstm_model.pt\n"
     ]
    }
   ],
   "source": [
    "LOAD_PATH = os.path.join('E:/Bhuvan/MODELS/')\n",
    "model = HybridModel(len(EMOTIONS))\n",
    "model.load_state_dict(torch.load(os.path.join(LOAD_PATH,'cnn_lstm_model.pt')))\n",
    "print('Model is loaded from {}'.format(os.path.join(LOAD_PATH,'cnn_lstm_model.pt')))"
   ]
  },
  {
   "cell_type": "markdown",
   "metadata": {
    "id": "3gd8RoBDVNb8"
   },
   "source": [
    "# Test"
   ]
  },
  {
   "cell_type": "code",
   "execution_count": 24,
   "metadata": {
    "id": "2HGkCDFEVNb8"
   },
   "outputs": [
    {
     "name": "stdout",
     "output_type": "stream",
     "text": [
      "Test loss is 1.249\n",
      "Test accuracy is 57.33%\n"
     ]
    }
   ],
   "source": [
    "X_test_tensor = torch.tensor(X_test,device=device).float()\n",
    "Y_test_tensor = torch.tensor(Y_test,dtype=torch.long,device=device)\n",
    "test_loss, test_acc, predictions = validate(X_test_tensor,Y_test_tensor)\n",
    "print(f'Test loss is {test_loss:.3f}')\n",
    "print(f'Test accuracy is {test_acc:.2f}%')"
   ]
  },
  {
   "cell_type": "markdown",
   "metadata": {
    "id": "8bD9yC9jVNb8"
   },
   "source": [
    "confusion matrix"
   ]
  },
  {
   "cell_type": "code",
   "execution_count": 25,
   "metadata": {
    "id": "dgmYtuKKVNb9"
   },
   "outputs": [
    {
     "data": {
      "image/png": "[encoded data removed]",
      "text/plain": [
       "<Figure size 640x480 with 1 Axes>"
      ]
     },
     "metadata": {},
     "output_type": "display_data"
    },
    {
     "data": {
      "image/png": "[encoded data removed]",
      "text/plain": [
       "<Figure size 640x480 with 1 Axes>"
      ]
     },
     "metadata": {},
     "output_type": "display_data"
    },
    {
     "data": {
      "image/png": "[encoded data removed]",
      "text/plain": [
       "<Figure size 640x480 with 2 Axes>"
      ]
     },
     "metadata": {},
     "output_type": "display_data"
    }
   ],
   "source": [
    "from sklearn.metrics import confusion_matrix\n",
    "import seaborn as sn\n",
    "\n",
    "predictions = predictions.cpu().numpy()\n",
    "cm = confusion_matrix(Y_test, predictions)\n",
    "names = [EMOTIONS[ind] for ind in range(len(EMOTIONS))]\n",
    "df_cm = pd.DataFrame(cm, index=names, columns=names)\n",
    "# plt.figure(figsize=(10,7))\n",
    "sn.set(font_scale=1.4) # for label size\n",
    "sn.heatmap(df_cm, annot=True, annot_kws={\"size\": 16}) # font size\n",
    "plt.show()"
   ]
  },
  {
   "cell_type": "markdown",
   "metadata": {
    "id": "vWGFFPkwVNb9"
   },
   "source": [
    "correlation between emotion intensity and prediction"
   ]
  },
  {
   "cell_type": "code",
   "execution_count": 26,
   "metadata": {
    "id": "Ny6YkOf0VNb9"
   },
   "outputs": [
    {
     "data": {
      "image/png": "[encoded data removed]",
      "text/plain": [
       "<Figure size 640x480 with 2 Axes>"
      ]
     },
     "metadata": {},
     "output_type": "display_data"
    }
   ],
   "source": [
    "correct_strong = 0\n",
    "correct_normal = 0\n",
    "wrong_strong = 0\n",
    "wrong_normal = 0\n",
    "for i in range(len(X_test)):\n",
    "    intensity = data.loc[test_ind[i],'Emotion intensity']\n",
    "    if Y_test[i] == predictions[i]: # correct prediction\n",
    "        if  intensity == 'normal':\n",
    "            correct_normal += 1\n",
    "        else:\n",
    "            correct_strong += 1\n",
    "    else: # wrong prediction\n",
    "        if intensity == 'normal':\n",
    "            wrong_normal += 1\n",
    "        else:\n",
    "            wrong_strong += 1\n",
    "array = np.array([[wrong_normal,wrong_strong],[correct_normal,correct_strong]])\n",
    "df = pd.DataFrame(array,['wrong','correct'],['normal','strong'])\n",
    "sn.set(font_scale=1.4) # for label size\n",
    "sn.heatmap(df, annot=True, annot_kws={\"size\": 16}) # font size\n",
    "plt.show()"
   ]
  },
  {
   "cell_type": "markdown",
   "metadata": {
    "id": "mKaJpkouVNb9"
   },
   "source": [
    "correlation between gender and corectness"
   ]
  },
  {
   "cell_type": "code",
   "execution_count": 27,
   "metadata": {
    "id": "b-GLPzWVVNb-"
   },
   "outputs": [
    {
     "data": {
      "image/png": "[encoded data removed]",
      "text/plain": [
       "<Figure size 640x480 with 2 Axes>"
      ]
     },
     "metadata": {},
     "output_type": "display_data"
    }
   ],
   "source": [
    "correct_male = 0\n",
    "correct_female = 0\n",
    "wrong_male = 0\n",
    "wrong_female = 0\n",
    "for i in range(len(X_test)):\n",
    "    gender = data.loc[test_ind[i],'Gender']\n",
    "    if Y_test[i] == predictions[i]: # correct prediction\n",
    "        if  gender == 'male':\n",
    "            correct_male += 1\n",
    "        else:\n",
    "            correct_female += 1\n",
    "    else: # wrong prediction\n",
    "        if gender == 'male':\n",
    "            wrong_male += 1\n",
    "        else:\n",
    "            wrong_female += 1\n",
    "array = np.array([[wrong_male,wrong_female],[correct_male,correct_female]])\n",
    "df = pd.DataFrame(array,['wrong','correct'],['male','female'])\n",
    "sn.set(font_scale=1.4) # for label size\n",
    "sn.heatmap(df, annot=True, annot_kws={\"size\": 16}) # font size\n",
    "plt.show()"
   ]
  },
  {
   "cell_type": "markdown",
   "metadata": {
    "id": "IkW7JapYVNb-"
   },
   "source": [
    "# Plot loss"
   ]
  },
  {
   "cell_type": "code",
   "execution_count": 30,
   "metadata": {
    "id": "ntNUHNGEVNb-"
   },
   "outputs": [
    {
     "data": {
      "image/png": "[encoded data removed]",
      "text/plain": [
       "<Figure size 640x480 with 1 Axes>"
      ]
     },
     "metadata": {},
     "output_type": "display_data"
    }
   ],
   "source": [
    "plt.plot(losses,'b')\n",
    "plt.plot(val_losses,'r')\n",
    "plt.legend(['train loss','val loss'])\n",
    "plt.show()"
   ]
  },
  {
   "cell_type": "code",
   "execution_count": 31,
   "metadata": {},
   "outputs": [
    {
     "data": {
      "image/png": "[encoded data removed]",
      "text/plain": [
       "<Figure size 640x480 with 1 Axes>"
      ]
     },
     "metadata": {},
     "output_type": "display_data"
    }
   ],
   "source": [
    "plt.plot(acc_ep,'b')\n",
    "plt.plot(vala,'r')\n",
    "plt.legend(['train accuracy','val accuracy'])\n",
    "plt.show()"
   ]
  }
 ],
 "metadata": {
  "colab": {
   "collapsed_sections": [],
   "name": "stacked-cnn-lstm.ipynb",
   "provenance": [],
   "toc_visible": true
  },
  "kernelspec": {
   "display_name": "Python 3",
   "language": "python",
   "name": "python3"
  },
  "language_info": {
   "codemirror_mode": {
    "name": "ipython",
    "version": 3
   },
   "file_extension": ".py",
   "mimetype": "text/x-python",
   "name": "python",
   "nbconvert_exporter": "python",
   "pygments_lexer": "ipython3",
   "version": "3.9.5"
  }
 },
 "nbformat": 4,
 "nbformat_minor": 1
}
